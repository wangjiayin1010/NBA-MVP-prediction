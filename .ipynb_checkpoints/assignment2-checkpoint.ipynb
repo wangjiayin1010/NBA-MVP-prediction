{
 "cells": [
  {
   "cell_type": "markdown",
   "metadata": {},
   "source": [
    "# NBA MVP predictor\n",
    "\n",
    "## Project overview\n",
    "It's eventually that time of the year when a new NBA season kicks off. As a basketball fan, other than supporting my own team, I am also always curious about who is going to be the MVP each year. So we decided to flex our muscles in machine learning and build a predictor on the MVP of each NBA season\n",
    "\n",
    "## Dataset\n",
    "The dataset that we are going to use is a huge datasets that records detailed statistics of every single player in the leagure since 1950. "
   ]
  },
  {
   "cell_type": "code",
   "execution_count": 10,
   "metadata": {},
   "outputs": [],
   "source": [
    "import pandas as pd\n",
    "from collections import namedtuple\n",
    "from sklearn.ensemble import RandomForestClassifier\n",
    "from sklearn.ensemble import RandomForestRegressor\n",
    "from sklearn import svm"
   ]
  },
  {
   "attachments": {},
   "cell_type": "markdown",
   "metadata": {},
   "source": [
    "## Some of the glossary that might help better understanding the dataset\n",
    "* `Pos`:  Postion the player plays\n",
    "* `Tm`:  Team the player plays for\t\n",
    "* `G`:  Number of game played\n",
    "* `MP`:  Minutes Played\n",
    "* `PER`:  Player Efficiency Rating, which sums up all a player's positive accomplishments, subtracts the negative accomplishments, and returns a per-minute rating of a player's performance\n",
    "* `TS%`:  True Shooting Percentage, a measure of shooting efficiency that takes into account field goals, 3-point field goals, and free throws\n",
    "* `3PAr`:  3-Point Attempt Rate to advanced stats, a measure of what percentage of a player's shots come from long-distance\n",
    "* `FTr`:  Free throw rate, the ratio of free throws attempted per field goal attempted\n",
    "* `ORB%`:  Offensive Rebound Percentage, an estimate of the percentage of available offensive rebounds a player grabbed while he was on the floor\n",
    "* `DRB%`: Defensive Rebound Percentage, an estimate of the percentage of available defensive rebounds a player grabbed while he was on the floor\n",
    "* `TRB%`: Total Rebound Percentage, an estimate of the percentage of available rebounds a player grabbed while he was on the floor\n",
    "* `AST%`: Assist Percentage, an estimate of the percentage of teammate field goals a player assisted while he was on the floor\n",
    "* `STL%`: Steal Percentage is an estimate of the percentage of opponent possessions that end with a steal by the player while he was on the floor.\n",
    "* `BLK%`: block percentage is an estimate of the percentage of opponent two-point field goal attempts blocked by the player while he was on the floor\n",
    "* `TOV%`: Turnover percentage is an estimate of turnovers per 100 plays\n",
    "* `USG%`: Usage percentage is an estimate of the percentage of team plays used by a player while he was on the floor\n",
    "* `OWS`: Offensive Win Shares\n",
    "* `DWS`: Defensive Win Shares\n",
    "* `WS`: Win Shares, an estimate of the number of wins contributed by a player\n",
    "* `WS/48`: Win Shares Per 48 Minutes, an estimate of the number of wins contributed by the player per 48 minutes\n",
    "* `OBPM`: Offensive Box Plus/Minus\n",
    "* `DBPM`: Defensive Box Plus/Minus\n",
    "* `BPM`: Box Plus/Minus\n",
    "* `VORP`: Value Over Replacement Player, \n",
    "* `FG`: Field Goals (includes both 2-point field goals and 3-point field goals)\n",
    "* `FGA`: Field Goal Attempts (includes both 2-point field goal attempts and 3-point field goal attempts)\n",
    "* `FG%`: Field Goal Percentage; the formula is FG / FGA.\n",
    "* `3P`: 3-Point Field Goals\n",
    "* `3PA`: 3-Point Field Goal Attempts\n",
    "* `3P%`: 3-Point Field Goal Percentage\n",
    "* `2P`: 2-Point Field Goals\n",
    "* `2PA`: 2-Point Field Goal Attempts\n",
    "* `2P%`: 2-Point Field Goal Percentage; the formula is 2P / 2PA\n",
    "* `eFG%`: Effective Field Goal Percentage, \n",
    "* `FT`: Free Throws\n",
    "* `FTA`: Free Throw Attempts\n",
    "* `FT%`: Free Throw Percentage\n",
    "* `ORB`: Offensive Rebounds\n",
    "* `DRB`: Defensive Rebounds\n",
    "* `TRB`: Total Rebounds\n",
    "* `AST`: Assists\n",
    "* `STL`: Steals\n",
    "* `BLK`: Blocks\n",
    "* `TOV`: Turnovers\n",
    "* `PF`:\tPersonal Fouls"
   ]
  },
  {
   "cell_type": "markdown",
   "metadata": {},
   "source": [
    "## Load and display rough Player Data\n",
    "\n",
    "Below I load the players data since 1940 and dispalys the first 5 entries of the data."
   ]
  },
  {
   "cell_type": "code",
   "execution_count": 2,
   "metadata": {},
   "outputs": [
    {
     "data": {
      "text/html": [
       "<div>\n",
       "<style>\n",
       "    .dataframe thead tr:only-child th {\n",
       "        text-align: right;\n",
       "    }\n",
       "\n",
       "    .dataframe thead th {\n",
       "        text-align: left;\n",
       "    }\n",
       "\n",
       "    .dataframe tbody tr th {\n",
       "        vertical-align: top;\n",
       "    }\n",
       "</style>\n",
       "<table border=\"1\" class=\"dataframe\">\n",
       "  <thead>\n",
       "    <tr style=\"text-align: right;\">\n",
       "      <th></th>\n",
       "      <th>Unnamed: 0</th>\n",
       "      <th>Year</th>\n",
       "      <th>Player</th>\n",
       "      <th>Pos</th>\n",
       "      <th>Age</th>\n",
       "      <th>Tm</th>\n",
       "      <th>G</th>\n",
       "      <th>GS</th>\n",
       "      <th>MP</th>\n",
       "      <th>PER</th>\n",
       "      <th>...</th>\n",
       "      <th>FT%</th>\n",
       "      <th>ORB</th>\n",
       "      <th>DRB</th>\n",
       "      <th>TRB</th>\n",
       "      <th>AST</th>\n",
       "      <th>STL</th>\n",
       "      <th>BLK</th>\n",
       "      <th>TOV</th>\n",
       "      <th>PF</th>\n",
       "      <th>PTS</th>\n",
       "    </tr>\n",
       "  </thead>\n",
       "  <tbody>\n",
       "    <tr>\n",
       "      <th>0</th>\n",
       "      <td>488</td>\n",
       "      <td>1952.0</td>\n",
       "      <td>Paul Arizin*</td>\n",
       "      <td>SF</td>\n",
       "      <td>23.0</td>\n",
       "      <td>PHW</td>\n",
       "      <td>66.0</td>\n",
       "      <td>0.0</td>\n",
       "      <td>2939.0</td>\n",
       "      <td>25.5</td>\n",
       "      <td>...</td>\n",
       "      <td>0.818</td>\n",
       "      <td>0.0</td>\n",
       "      <td>0.0</td>\n",
       "      <td>745.0</td>\n",
       "      <td>170.0</td>\n",
       "      <td>0.0</td>\n",
       "      <td>0.0</td>\n",
       "      <td>0.0</td>\n",
       "      <td>250.0</td>\n",
       "      <td>1674.0</td>\n",
       "    </tr>\n",
       "    <tr>\n",
       "      <th>1</th>\n",
       "      <td>489</td>\n",
       "      <td>1952.0</td>\n",
       "      <td>Cliff Barker</td>\n",
       "      <td>SG</td>\n",
       "      <td>31.0</td>\n",
       "      <td>INO</td>\n",
       "      <td>44.0</td>\n",
       "      <td>0.0</td>\n",
       "      <td>494.0</td>\n",
       "      <td>10.8</td>\n",
       "      <td>...</td>\n",
       "      <td>0.588</td>\n",
       "      <td>0.0</td>\n",
       "      <td>0.0</td>\n",
       "      <td>81.0</td>\n",
       "      <td>70.0</td>\n",
       "      <td>0.0</td>\n",
       "      <td>0.0</td>\n",
       "      <td>0.0</td>\n",
       "      <td>56.0</td>\n",
       "      <td>126.0</td>\n",
       "    </tr>\n",
       "    <tr>\n",
       "      <th>2</th>\n",
       "      <td>490</td>\n",
       "      <td>1952.0</td>\n",
       "      <td>Don Barksdale*</td>\n",
       "      <td>PF</td>\n",
       "      <td>28.0</td>\n",
       "      <td>BLB</td>\n",
       "      <td>62.0</td>\n",
       "      <td>0.0</td>\n",
       "      <td>2014.0</td>\n",
       "      <td>15.8</td>\n",
       "      <td>...</td>\n",
       "      <td>0.691</td>\n",
       "      <td>0.0</td>\n",
       "      <td>0.0</td>\n",
       "      <td>601.0</td>\n",
       "      <td>137.0</td>\n",
       "      <td>0.0</td>\n",
       "      <td>0.0</td>\n",
       "      <td>0.0</td>\n",
       "      <td>230.0</td>\n",
       "      <td>781.0</td>\n",
       "    </tr>\n",
       "    <tr>\n",
       "      <th>3</th>\n",
       "      <td>491</td>\n",
       "      <td>1952.0</td>\n",
       "      <td>Leo Barnhorst</td>\n",
       "      <td>SF</td>\n",
       "      <td>27.0</td>\n",
       "      <td>INO</td>\n",
       "      <td>66.0</td>\n",
       "      <td>0.0</td>\n",
       "      <td>2344.0</td>\n",
       "      <td>15.9</td>\n",
       "      <td>...</td>\n",
       "      <td>0.652</td>\n",
       "      <td>0.0</td>\n",
       "      <td>0.0</td>\n",
       "      <td>430.0</td>\n",
       "      <td>255.0</td>\n",
       "      <td>0.0</td>\n",
       "      <td>0.0</td>\n",
       "      <td>0.0</td>\n",
       "      <td>196.0</td>\n",
       "      <td>820.0</td>\n",
       "    </tr>\n",
       "    <tr>\n",
       "      <th>4</th>\n",
       "      <td>492</td>\n",
       "      <td>1952.0</td>\n",
       "      <td>Elmer Behnke</td>\n",
       "      <td>C</td>\n",
       "      <td>22.0</td>\n",
       "      <td>MLH</td>\n",
       "      <td>4.0</td>\n",
       "      <td>0.0</td>\n",
       "      <td>55.0</td>\n",
       "      <td>7.8</td>\n",
       "      <td>...</td>\n",
       "      <td>0.571</td>\n",
       "      <td>0.0</td>\n",
       "      <td>0.0</td>\n",
       "      <td>17.0</td>\n",
       "      <td>4.0</td>\n",
       "      <td>0.0</td>\n",
       "      <td>0.0</td>\n",
       "      <td>0.0</td>\n",
       "      <td>13.0</td>\n",
       "      <td>16.0</td>\n",
       "    </tr>\n",
       "  </tbody>\n",
       "</table>\n",
       "<p>5 rows × 53 columns</p>\n",
       "</div>"
      ],
      "text/plain": [
       "   Unnamed: 0    Year          Player Pos   Age   Tm     G   GS      MP   PER  \\\n",
       "0         488  1952.0    Paul Arizin*  SF  23.0  PHW  66.0  0.0  2939.0  25.5   \n",
       "1         489  1952.0    Cliff Barker  SG  31.0  INO  44.0  0.0   494.0  10.8   \n",
       "2         490  1952.0  Don Barksdale*  PF  28.0  BLB  62.0  0.0  2014.0  15.8   \n",
       "3         491  1952.0   Leo Barnhorst  SF  27.0  INO  66.0  0.0  2344.0  15.9   \n",
       "4         492  1952.0    Elmer Behnke   C  22.0  MLH   4.0  0.0    55.0   7.8   \n",
       "\n",
       "    ...      FT%  ORB  DRB    TRB    AST  STL  BLK  TOV     PF     PTS  \n",
       "0   ...    0.818  0.0  0.0  745.0  170.0  0.0  0.0  0.0  250.0  1674.0  \n",
       "1   ...    0.588  0.0  0.0   81.0   70.0  0.0  0.0  0.0   56.0   126.0  \n",
       "2   ...    0.691  0.0  0.0  601.0  137.0  0.0  0.0  0.0  230.0   781.0  \n",
       "3   ...    0.652  0.0  0.0  430.0  255.0  0.0  0.0  0.0  196.0   820.0  \n",
       "4   ...    0.571  0.0  0.0   17.0    4.0  0.0  0.0  0.0   13.0    16.0  \n",
       "\n",
       "[5 rows x 53 columns]"
      ]
     },
     "execution_count": 2,
     "metadata": {},
     "output_type": "execute_result"
    }
   ],
   "source": [
    "data = pd.read_csv('Seasons_Stats.csv').fillna(value = 0)\n",
    "data.head() # display the first 5 entries of the data"
   ]
  },
  {
   "cell_type": "markdown",
   "metadata": {},
   "source": [
    "## Filter the data\n",
    "Data before 1980 does not have a complete record of all the statstistics. So we decide to train our model only based on data after 1980. \n",
    "\n",
    "Since some statistics such as row.FT%, row.3p, etc are not valid because a valid string cannot have % in it or start with a number, we have to access them using their indices as below.\n",
    "`11`:TS%,`12`:3PAr,`14`:ORB%,`15`:DRB%,`16`:TRB%,`17`:AST%,`18`:STL%,`19`:BLK%,`20`:TOV%,`21`:USG%,`26`:WS/48, `34`:FG%,`35`:3P,`36`:3PA,`37`:3P%,`38`:2P,`39`:2PA,`40`:2P%,`41`:eFG%,`44`:FT%"
   ]
  },
  {
   "cell_type": "code",
   "execution_count": 3,
   "metadata": {},
   "outputs": [],
   "source": [
    "# filter out data with before 1980\n",
    "filter = data[\"Year\"] >= 1980\n",
    "data = data[filter]"
   ]
  },
  {
   "cell_type": "code",
   "execution_count": 4,
   "metadata": {},
   "outputs": [],
   "source": [
    "Player = namedtuple('Player', ['Year','Name', 'Pos', 'Games','MP','PER','TSr','ThreePAr','FTRate','ORBr','DRBr','TRBr','ASTr','STLr','BLKr','TOVr','USGr','OWS','DWS','WS','WSper48','OBPM','DBPM','BPM','VORP','FG','FGA','FGr','ThreeP','ThreePA','ThreePr','TwoP','TwoPA','TwoPr','eFGr','FT','FTA','FTr','ORB','DRB','TRB','AST','STL','BLK','TOV','PF','PTS'])"
   ]
  },
  {
   "cell_type": "markdown",
   "metadata": {},
   "source": [
    "We will also need to combine a certain rows of data that represents the same player in the same year but having played for multiple teams. "
   ]
  },
  {
   "cell_type": "code",
   "execution_count": 5,
   "metadata": {},
   "outputs": [],
   "source": [
    "#Combine consecutive rows with the same player. Use sum of some values and average of other values.\n",
    "data_refined = []\n",
    "y = []\n",
    "prev = None\n",
    "count = 0\n",
    "for row in data.itertuples():\n",
    "    #When it's a different player from last row, divide existing data by count and add to result\n",
    "    if prev != None and row.Player != prev.Name:\n",
    "        tmp = Player(prev.Year,prev.Name,prev.Pos,prev.Games,prev.MP,prev.PER/count,prev.TSr/count,prev.ThreePAr/count,prev.FTRate/count,prev.ORBr/count,prev.DRBr/count,prev.TRBr/count,prev.ASTr/count,prev.STLr/count,prev.BLKr/count,prev.TOVr/count,prev.USGr/count,prev.OWS/count,prev.DWS/count,prev.WS/count,prev.WSper48/count,prev.OBPM/count,prev.DBPM/count,prev.BPM/count,prev.VORP/count,prev.FG,prev.FGA,prev.FGr/count,prev.ThreeP,prev.ThreePA,prev.ThreePr/count,prev.TwoP,prev.TwoPA,prev.TwoPr/count,prev.eFGr/count,prev.FT,prev.FTA,prev.FTr/count,prev.ORB,prev.DRB,prev.TRB,prev.AST,prev.STL,prev.BLK,prev.TOV,prev.PF,prev.PTS)\n",
    "        data_refined.append(tmp)\n",
    "        prev = Player(row.Year,row.Player,row.Pos,row.G,row.MP,row.PER,row[11],row[12],row.FTr,row[14],row[15],row[16],row[17],row[18],row[19],row[20],row[21],row.OWS,row.DWS,row.WS,row[26],row.OBPM,row.DBPM,row.BPM,row.VORP,row.FG,row.FGA,row[34],row[35],row[36],row[37],row[38],row[39],row[40],row[41],row.FT,row.FTA,row[44],row.ORB,row.DRB,row.TRB,row.AST,row.STL,row.BLK,row.TOV,row.PF,row.PTS)\n",
    "        count = 1\n",
    "    #When it's the same player as last row, update existing data\n",
    "    elif prev != None and row.Player == prev.Name:\n",
    "        prev = Player(row.Year,row.Player,row.Pos,prev.Games+row.G,prev.MP+row.MP,prev.PER+row.PER,prev.TSr+row[11],prev.ThreePAr+row[12],prev.FTRate+row.FTr,prev.ORBr+row[14],prev.DRBr+row[15],prev.TRBr+row[16],prev.ASTr+row[17],prev.STLr+row[18],prev.BLKr+row[19],prev.TOVr+row[20],prev.USGr+row[21],prev.OWS+row.OWS,prev.DWS+row.DWS,prev.WS+row.WS,prev.WSper48+row[26],prev.OBPM+row.OBPM,prev.DBPM+row.DBPM,prev.BPM+row.BPM,prev.VORP+row.VORP,prev.FG+row.FG,prev.FGA+row.FGA,prev.FGr+row[34],prev.ThreeP+row[35],prev.ThreePA+row[36],prev.ThreePr+row[37],prev.TwoP+row[38],prev.TwoPA+row[39],prev.TwoPr+row[40],prev.eFGr+row[41],prev.FT+row.FT,prev.FTA+row.FTA,prev.FTr+row[44],prev.ORB+row.ORB,prev.DRB+row.DRB,prev.TRB+row.TRB,prev.AST+row.AST,prev.STL+row.STL,prev.BLK+row.BLK,prev.TOV+row.TOV,prev.PF+row.PF,prev.PTS+row.PTS)\n",
    "        count += 1\n",
    "    #When it's the first row\n",
    "    elif prev == None:\n",
    "        prev = Player(row.Year,row.Player,row.Pos,row.G,row.MP,row.PER,row[11],row[12],row.FTr,row[14],row[15],row[16],row[17],row[18],row[19],row[20],row[21],row.OWS,row.DWS,row.WS,row[26],row.OBPM,row.DBPM,row.BPM,row.VORP,row.FG,row.FGA,row[34],row[35],row[36],row[37],row[38],row[39],row[40],row[41],row.FT,row.FTA,row[44],row.ORB,row.DRB,row.TRB,row.AST,row.STL,row.BLK,row.TOV,row.PF,row.PTS)\n",
    "        count = 1"
   ]
  },
  {
   "cell_type": "markdown",
   "metadata": {},
   "source": [
    "## Build the X_data and y_data\n",
    "Construct the table that matches years with MVPs since 1980\n",
    "\n",
    "Get rid of the \"*\" after some players' names. \n",
    "\n",
    "X_data right now contains all the statistics as features\n",
    "y_data is a binary factor where 1 represents MVP of the year and 0 represents non-MVP"
   ]
  },
  {
   "cell_type": "code",
   "execution_count": 7,
   "metadata": {},
   "outputs": [],
   "source": [
    "mvps = {2017:'Russell Westbrook', 2016:'Stephen Curry', 2015:'Stephen Curry', 2014:'Kevin Durant', 2013:'LeBron James',2012:'LeBron James',2011:'Derrick Rose',2010:'LeBron James',2009:'LeBron James',2008:'Kobe Bryant',2007:'Dirk Nowitzki',2006:'Steve Nash',2005:'Steve Nash',2004:'Kevin Garnett',2003:'Tim Duncan',2002:'Tim Duncan',2001:'Allen Iverson',2000:'''Shaquille O'Neal''',1999:'Karl Malone',1998:'Michael Jordan',1997:'Karl Malone',1996:'Michael Jordan',1995:'David Robinson',1994:'Hakeem Olajuwon',1993:'Charles Barkley',1992:'Michael Jordan',1991:'Michael Jordan',1990:'Magic Johnson',1989:'Magic Johnson',1988:'Michael Jordan',1987:'Magic Johnson',1986:'Larry Bird',1985:'Larry Bird',1984:'Larry Bird',1983:'Moses Malone',1982:'Moses Malone',1981:'Julius Erving',1980:'Kareem Abdul-Jabbar'}\n",
    "\n",
    "X_data = []\n",
    "y_data = []\n",
    "for d in data_refined:\n",
    "    name = d.Name\n",
    "    if name[-1] == '*':\n",
    "        name = name[0:-1]\n",
    "    if mvps[int(d.Year)] == name:\n",
    "        y_data.append(1)\n",
    "    else:\n",
    "        y_data.append(0)\n",
    "    \n",
    "    features = [d.Games,d.MP,d.PER,d.TSr,d.ThreePAr,d.FTRate,d.ORBr,d.DRBr,d.TRBr,d.ASTr,d.STLr,d.BLKr,d.TOVr,d.USGr,d.OWS,d.DWS,d.WS,d.WSper48,d.OBPM,d.DBPM,d.BPM,d.VORP,d.FG,d.FGA,d.FGr,d.ThreeP,d.ThreePA,d.ThreePr,d.TwoP,d.TwoPA,d.TwoPr,d.eFGr,d.FT,d.FTA,d.FTr,d.ORB,d.DRB,d.TRB,d.AST,d.STL,d.BLK,d.TOV,d.PF,d.PTS]\n",
    "    X_data.append(features)   "
   ]
  },
  {
   "cell_type": "markdown",
   "metadata": {},
   "source": [
    "From 1980-2017, 38 years, expecting 38 mvps"
   ]
  },
  {
   "cell_type": "code",
   "execution_count": 9,
   "metadata": {},
   "outputs": [
    {
     "data": {
      "text/plain": [
       "38"
      ]
     },
     "execution_count": 9,
     "metadata": {},
     "output_type": "execute_result"
    }
   ],
   "source": [
    "sum(y_data)"
   ]
  },
  {
   "cell_type": "code",
   "execution_count": null,
   "metadata": {},
   "outputs": [],
   "source": []
  },
  {
   "cell_type": "code",
   "execution_count": null,
   "metadata": {},
   "outputs": [],
   "source": [
    "# divide our data into training set and testing set by 75:25\n",
    "X_training = X_data[:len(X_data)*3//4]\n",
    "y_training = y_data[:len(X_data)*3//4]\n",
    "X_testing = X_data[len(X_data)*3//4:]\n",
    "y_testing = y_data[len(X_data)*3//4:]"
   ]
  },
  {
   "cell_type": "code",
   "execution_count": null,
   "metadata": {},
   "outputs": [],
   "source": [
    "len(X_testing)"
   ]
  },
  {
   "cell_type": "code",
   "execution_count": null,
   "metadata": {},
   "outputs": [],
   "source": [
    "def evaluate(pred, labels):\n",
    "    TP=0\n",
    "    TN=0\n",
    "    FP=0\n",
    "    FN=0\n",
    "    for (a,b) in zip(pred, labels):\n",
    "        if (a==True and b==True):\n",
    "            TP = TP+1\n",
    "        elif (a==True and b==False):\n",
    "            FP = FP+1\n",
    "        elif (a==False and b==True):\n",
    "            FN = FN+1\n",
    "        elif (a==False and b==False):\n",
    "            TN = TN+1\n",
    "    \n",
    "    TPR = TP/(TP+FN)\n",
    "    TNR = TN/(TN+FP)\n",
    "    BER = 1-(TPR+TNR)/2\n",
    "    PRECISION = TP / (TP+FP)\n",
    "    RECALL = TP / (TP+FN)\n",
    "    print(\"Statistics for our training model: \")\n",
    "    print(\"\\nTrue positives: \" + str(TP))\n",
    "    print(\"True negatives: \" + str(TN))\n",
    "    print(\"False positives: \" + str(FP))\n",
    "    print(\"False negatives: \" + str(FN))\n",
    "    print(\"\\nAccuracy: \" + str((TP + TN)/len(pred)))\n",
    "    print(\"BER is \" + str(BER))\n",
    "    print(\"Precision: \" + str(PRECISION))\n",
    "    print(\"Recall: \" + str(RECALL))"
   ]
  },
  {
   "cell_type": "code",
   "execution_count": null,
   "metadata": {},
   "outputs": [],
   "source": [
    "clf_RFC = RandomForestClassifier(max_depth=2, random_state=0,class_weight = {0:1,1:160})\n",
    "clf_RFC.fit(X_training, y_training)\n",
    "pred_RFC = clf_RFC.predict(X_testing)\n",
    "evaluate(pred_RFC, y_testing)"
   ]
  },
  {
   "cell_type": "code",
   "execution_count": null,
   "metadata": {},
   "outputs": [],
   "source": []
  }
 ],
 "metadata": {
  "anaconda-cloud": {},
  "kernelspec": {
   "display_name": "Python 3",
   "language": "python",
   "name": "python3"
  },
  "language_info": {
   "codemirror_mode": {
    "name": "ipython",
    "version": 3
   },
   "file_extension": ".py",
   "mimetype": "text/x-python",
   "name": "python",
   "nbconvert_exporter": "python",
   "pygments_lexer": "ipython3",
   "version": "3.6.3"
  }
 },
 "nbformat": 4,
 "nbformat_minor": 1
}
