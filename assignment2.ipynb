{
 "cells": [
  {
   "cell_type": "code",
   "execution_count": 3,
   "metadata": {
    "collapsed": true
   },
   "outputs": [],
   "source": [
    "import pandas as pd"
   ]
  },
  {
   "cell_type": "code",
   "execution_count": 153,
   "metadata": {
    "collapsed": true
   },
   "outputs": [],
   "source": [
    "import warnings; warnings.simplefilter('ignore')"
   ]
  },
  {
   "cell_type": "code",
   "execution_count": 99,
   "metadata": {
    "collapsed": true
   },
   "outputs": [],
   "source": [
    "data = pd.read_csv('Seasons_Stats.csv').fillna(value = 0)"
   ]
  },
  {
   "cell_type": "code",
   "execution_count": 124,
   "metadata": {
    "collapsed": false
   },
   "outputs": [
    {
     "data": {
      "text/html": [
       "<div>\n",
       "<table border=\"1\" class=\"dataframe\">\n",
       "  <thead>\n",
       "    <tr style=\"text-align: right;\">\n",
       "      <th></th>\n",
       "      <th>Unnamed: 0</th>\n",
       "      <th>Year</th>\n",
       "      <th>Player</th>\n",
       "      <th>Pos</th>\n",
       "      <th>Age</th>\n",
       "      <th>Tm</th>\n",
       "      <th>G</th>\n",
       "      <th>GS</th>\n",
       "      <th>MP</th>\n",
       "      <th>PER</th>\n",
       "      <th>...</th>\n",
       "      <th>FT%</th>\n",
       "      <th>ORB</th>\n",
       "      <th>DRB</th>\n",
       "      <th>TRB</th>\n",
       "      <th>AST</th>\n",
       "      <th>STL</th>\n",
       "      <th>BLK</th>\n",
       "      <th>TOV</th>\n",
       "      <th>PF</th>\n",
       "      <th>PTS</th>\n",
       "    </tr>\n",
       "  </thead>\n",
       "  <tbody>\n",
       "    <tr>\n",
       "      <th>5239</th>\n",
       "      <td>5727</td>\n",
       "      <td>1980.0</td>\n",
       "      <td>Kareem Abdul-Jabbar*</td>\n",
       "      <td>C</td>\n",
       "      <td>32.0</td>\n",
       "      <td>LAL</td>\n",
       "      <td>82.0</td>\n",
       "      <td>0.0</td>\n",
       "      <td>3143.0</td>\n",
       "      <td>25.3</td>\n",
       "      <td>...</td>\n",
       "      <td>0.765</td>\n",
       "      <td>190.0</td>\n",
       "      <td>696.0</td>\n",
       "      <td>886.0</td>\n",
       "      <td>371.0</td>\n",
       "      <td>81.0</td>\n",
       "      <td>280.0</td>\n",
       "      <td>297.0</td>\n",
       "      <td>216.0</td>\n",
       "      <td>2034.0</td>\n",
       "    </tr>\n",
       "    <tr>\n",
       "      <th>5240</th>\n",
       "      <td>5728</td>\n",
       "      <td>1980.0</td>\n",
       "      <td>Tom Abernethy</td>\n",
       "      <td>PF</td>\n",
       "      <td>25.0</td>\n",
       "      <td>GSW</td>\n",
       "      <td>67.0</td>\n",
       "      <td>0.0</td>\n",
       "      <td>1222.0</td>\n",
       "      <td>11.0</td>\n",
       "      <td>...</td>\n",
       "      <td>0.683</td>\n",
       "      <td>62.0</td>\n",
       "      <td>129.0</td>\n",
       "      <td>191.0</td>\n",
       "      <td>87.0</td>\n",
       "      <td>35.0</td>\n",
       "      <td>12.0</td>\n",
       "      <td>39.0</td>\n",
       "      <td>118.0</td>\n",
       "      <td>362.0</td>\n",
       "    </tr>\n",
       "    <tr>\n",
       "      <th>5241</th>\n",
       "      <td>5729</td>\n",
       "      <td>1980.0</td>\n",
       "      <td>Alvan Adams</td>\n",
       "      <td>C</td>\n",
       "      <td>25.0</td>\n",
       "      <td>PHO</td>\n",
       "      <td>75.0</td>\n",
       "      <td>0.0</td>\n",
       "      <td>2168.0</td>\n",
       "      <td>19.2</td>\n",
       "      <td>...</td>\n",
       "      <td>0.797</td>\n",
       "      <td>158.0</td>\n",
       "      <td>451.0</td>\n",
       "      <td>609.0</td>\n",
       "      <td>322.0</td>\n",
       "      <td>108.0</td>\n",
       "      <td>55.0</td>\n",
       "      <td>218.0</td>\n",
       "      <td>237.0</td>\n",
       "      <td>1118.0</td>\n",
       "    </tr>\n",
       "    <tr>\n",
       "      <th>5242</th>\n",
       "      <td>5730</td>\n",
       "      <td>1980.0</td>\n",
       "      <td>Tiny Archibald*</td>\n",
       "      <td>PG</td>\n",
       "      <td>31.0</td>\n",
       "      <td>BOS</td>\n",
       "      <td>80.0</td>\n",
       "      <td>80.0</td>\n",
       "      <td>2864.0</td>\n",
       "      <td>15.3</td>\n",
       "      <td>...</td>\n",
       "      <td>0.830</td>\n",
       "      <td>59.0</td>\n",
       "      <td>138.0</td>\n",
       "      <td>197.0</td>\n",
       "      <td>671.0</td>\n",
       "      <td>106.0</td>\n",
       "      <td>10.0</td>\n",
       "      <td>242.0</td>\n",
       "      <td>218.0</td>\n",
       "      <td>1131.0</td>\n",
       "    </tr>\n",
       "    <tr>\n",
       "      <th>5243</th>\n",
       "      <td>5731</td>\n",
       "      <td>1980.0</td>\n",
       "      <td>Dennis Awtrey</td>\n",
       "      <td>C</td>\n",
       "      <td>31.0</td>\n",
       "      <td>CHI</td>\n",
       "      <td>26.0</td>\n",
       "      <td>0.0</td>\n",
       "      <td>560.0</td>\n",
       "      <td>7.4</td>\n",
       "      <td>...</td>\n",
       "      <td>0.640</td>\n",
       "      <td>29.0</td>\n",
       "      <td>86.0</td>\n",
       "      <td>115.0</td>\n",
       "      <td>40.0</td>\n",
       "      <td>12.0</td>\n",
       "      <td>15.0</td>\n",
       "      <td>27.0</td>\n",
       "      <td>66.0</td>\n",
       "      <td>86.0</td>\n",
       "    </tr>\n",
       "  </tbody>\n",
       "</table>\n",
       "<p>5 rows × 53 columns</p>\n",
       "</div>"
      ],
      "text/plain": [
       "      Unnamed: 0    Year                Player Pos   Age   Tm     G    GS  \\\n",
       "5239        5727  1980.0  Kareem Abdul-Jabbar*   C  32.0  LAL  82.0   0.0   \n",
       "5240        5728  1980.0         Tom Abernethy  PF  25.0  GSW  67.0   0.0   \n",
       "5241        5729  1980.0           Alvan Adams   C  25.0  PHO  75.0   0.0   \n",
       "5242        5730  1980.0       Tiny Archibald*  PG  31.0  BOS  80.0  80.0   \n",
       "5243        5731  1980.0         Dennis Awtrey   C  31.0  CHI  26.0   0.0   \n",
       "\n",
       "          MP   PER   ...      FT%    ORB    DRB    TRB    AST    STL    BLK  \\\n",
       "5239  3143.0  25.3   ...    0.765  190.0  696.0  886.0  371.0   81.0  280.0   \n",
       "5240  1222.0  11.0   ...    0.683   62.0  129.0  191.0   87.0   35.0   12.0   \n",
       "5241  2168.0  19.2   ...    0.797  158.0  451.0  609.0  322.0  108.0   55.0   \n",
       "5242  2864.0  15.3   ...    0.830   59.0  138.0  197.0  671.0  106.0   10.0   \n",
       "5243   560.0   7.4   ...    0.640   29.0   86.0  115.0   40.0   12.0   15.0   \n",
       "\n",
       "        TOV     PF     PTS  \n",
       "5239  297.0  216.0  2034.0  \n",
       "5240   39.0  118.0   362.0  \n",
       "5241  218.0  237.0  1118.0  \n",
       "5242  242.0  218.0  1131.0  \n",
       "5243   27.0   66.0    86.0  \n",
       "\n",
       "[5 rows x 53 columns]"
      ]
     },
     "execution_count": 124,
     "metadata": {},
     "output_type": "execute_result"
    }
   ],
   "source": [
    "data.head()"
   ]
  },
  {
   "cell_type": "code",
   "execution_count": 101,
   "metadata": {
    "collapsed": false
   },
   "outputs": [],
   "source": [
    "filter = data[\"Year\"] >= 1980\n",
    "data = data[filter]"
   ]
  },
  {
   "cell_type": "code",
   "execution_count": 102,
   "metadata": {
    "collapsed": false
   },
   "outputs": [
    {
     "data": {
      "text/plain": [
       "18927"
      ]
     },
     "execution_count": 102,
     "metadata": {},
     "output_type": "execute_result"
    }
   ],
   "source": [
    "len(data)"
   ]
  },
  {
   "cell_type": "code",
   "execution_count": 126,
   "metadata": {
    "collapsed": true
   },
   "outputs": [],
   "source": [
    "mvps = {2017:'Russell Westbrook', 2016:'Stephen Curry', 2015:'Stephen Curry', 2014:'Kevin Durant', 2013:'LeBron James',2012:'LeBron James',2011:'Derrick Rose',2010:'LeBron James',2009:'LeBron James',2008:'Kobe Bryant',2007:'Dirk Nowitzki',2006:'Steve Nash',2005:'Steve Nash',2004:'Kevin Garnett',2003:'Tim Duncan',2002:'Tim Duncan',2001:'Allen Iverson',2000:'''Shaquille O'Neal''',1999:'Karl Malone',1998:'Michael Jordan',1997:'Karl Malone',1996:'Michael Jordan',1995:'David Robinson',1994:'Hakeem Olajuwon',1993:'Charles Barkley',1992:'Michael Jordan',1991:'Michael Jordan',1990:'Magic Johnson',1989:'Magic Johnson',1988:'Michael Jordan',1987:'Magic Johnson',1986:'Larry Bird',1985:'Larry Bird',1984:'Larry Bird',1983:'Moses Malone',1982:'Moses Malone',1981:'Julius Erving',1980:'Kareem Abdul-Jabbar'}"
   ]
  },
  {
   "cell_type": "code",
   "execution_count": 18,
   "metadata": {
    "collapsed": true
   },
   "outputs": [],
   "source": [
    "from collections import namedtuple"
   ]
  },
  {
   "cell_type": "code",
   "execution_count": 78,
   "metadata": {
    "collapsed": false
   },
   "outputs": [],
   "source": [
    "Player = namedtuple('Player', ['Year','Name', 'Pos', 'Games','MP','PER','TSr','ThreePAr','FTRate','ORBr','DRBr','TRBr','ASTr','STLr','BLKr','TOVr','USGr','OWS','DWS','WS','WSper48','OBPM','DBPM','BPM','VORP','FG','FGA','FGr','ThreeP','ThreePA','ThreePr','TwoP','TwoPA','TwoPr','eFGr','FT','FTA','FTr','ORB','DRB','TRB','AST','STL','BLK','TOV','PF','PTS'])"
   ]
  },
  {
   "cell_type": "code",
   "execution_count": 122,
   "metadata": {
    "collapsed": false
   },
   "outputs": [],
   "source": [
    "#Since row.FT%, row.3p, etc is not valid because a valid string cannot have % in it or start with a number, and I don't know how to escape it in this case, I have to use their indexes as below.\n",
    "#11:TS%, 12:3PAr,14:ORB%,15:DRB%,16:TRB%,17:AST%,18:STL%,19:BLK%,20:TOV%,21:USG%,26:WS/48,34:FG%,35:3P,36:3PA,37:3P%,38:2P,39:2PA,40:2P%,41:eFG%,44:FT%"
   ]
  },
  {
   "cell_type": "code",
   "execution_count": 104,
   "metadata": {
    "collapsed": false
   },
   "outputs": [],
   "source": [
    "#Combine consecutive rows with the same player. Use sum of some values and average of other values.\n",
    "data_refined = []\n",
    "y = []\n",
    "prev = None\n",
    "count = 0\n",
    "for row in data.itertuples():\n",
    "    #When it's a different player from last row, divide existing data by count and add to result\n",
    "    if prev != None and row.Player != prev.Name:\n",
    "        tmp = Player(prev.Year,prev.Name,prev.Pos,prev.Games,prev.MP,prev.PER/count,prev.TSr/count,prev.ThreePAr/count,prev.FTRate/count,prev.ORBr/count,prev.DRBr/count,prev.TRBr/count,prev.ASTr/count,prev.STLr/count,prev.BLKr/count,prev.TOVr/count,prev.USGr/count,prev.OWS/count,prev.DWS/count,prev.WS/count,prev.WSper48/count,prev.OBPM/count,prev.DBPM/count,prev.BPM/count,prev.VORP/count,prev.FG,prev.FGA,prev.FGr/count,prev.ThreeP,prev.ThreePA,prev.ThreePr/count,prev.TwoP,prev.TwoPA,prev.TwoPr/count,prev.eFGr/count,prev.FT,prev.FTA,prev.FTr/count,prev.ORB,prev.DRB,prev.TRB,prev.AST,prev.STL,prev.BLK,prev.TOV,prev.PF,prev.PTS)\n",
    "        data_refined.append(tmp)\n",
    "        prev = Player(row.Year,row.Player,row.Pos,row.G,row.MP,row.PER,row[11],row[12],row.FTr,row[14],row[15],row[16],row[17],row[18],row[19],row[20],row[21],row.OWS,row.DWS,row.WS,row[26],row.OBPM,row.DBPM,row.BPM,row.VORP,row.FG,row.FGA,row[34],row[35],row[36],row[37],row[38],row[39],row[40],row[41],row.FT,row.FTA,row[44],row.ORB,row.DRB,row.TRB,row.AST,row.STL,row.BLK,row.TOV,row.PF,row.PTS)\n",
    "        count = 1\n",
    "    #When it's the same player as last row, update existing data\n",
    "    elif prev != None and row.Player == prev.Name:\n",
    "        prev = Player(row.Year,row.Player,row.Pos,prev.Games+row.G,prev.MP+row.MP,prev.PER+row.PER,prev.TSr+row[11],prev.ThreePAr+row[12],prev.FTRate+row.FTr,prev.ORBr+row[14],prev.DRBr+row[15],prev.TRBr+row[16],prev.ASTr+row[17],prev.STLr+row[18],prev.BLKr+row[19],prev.TOVr+row[20],prev.USGr+row[21],prev.OWS+row.OWS,prev.DWS+row.DWS,prev.WS+row.WS,prev.WSper48+row[26],prev.OBPM+row.OBPM,prev.DBPM+row.DBPM,prev.BPM+row.BPM,prev.VORP+row.VORP,prev.FG+row.FG,prev.FGA+row.FGA,prev.FGr+row[34],prev.ThreeP+row[35],prev.ThreePA+row[36],prev.ThreePr+row[37],prev.TwoP+row[38],prev.TwoPA+row[39],prev.TwoPr+row[40],prev.eFGr+row[41],prev.FT+row.FT,prev.FTA+row.FTA,prev.FTr+row[44],prev.ORB+row.ORB,prev.DRB+row.DRB,prev.TRB+row.TRB,prev.AST+row.AST,prev.STL+row.STL,prev.BLK+row.BLK,prev.TOV+row.TOV,prev.PF+row.PF,prev.PTS+row.PTS)\n",
    "        count += 1\n",
    "    #When it's the first row\n",
    "    elif prev == None:\n",
    "        prev = Player(row.Year,row.Player,row.Pos,row.G,row.MP,row.PER,row[11],row[12],row.FTr,row[14],row[15],row[16],row[17],row[18],row[19],row[20],row[21],row.OWS,row.DWS,row.WS,row[26],row.OBPM,row.DBPM,row.BPM,row.VORP,row.FG,row.FGA,row[34],row[35],row[36],row[37],row[38],row[39],row[40],row[41],row.FT,row.FTA,row[44],row.ORB,row.DRB,row.TRB,row.AST,row.STL,row.BLK,row.TOV,row.PF,row.PTS)\n",
    "        count = 1"
   ]
  },
  {
   "cell_type": "code",
   "execution_count": 105,
   "metadata": {
    "collapsed": false
   },
   "outputs": [
    {
     "data": {
      "text/plain": [
       "15519"
      ]
     },
     "execution_count": 105,
     "metadata": {},
     "output_type": "execute_result"
    }
   ],
   "source": [
    "len(data_refined)"
   ]
  },
  {
   "cell_type": "code",
   "execution_count": 106,
   "metadata": {
    "collapsed": false
   },
   "outputs": [
    {
     "data": {
      "text/plain": [
       "Player(Year=1980.0, Name='Kareem Abdul-Jabbar*', Pos='C', Games=82.0, MP=3143.0, PER=25.300000000000001, TSr=0.63900000000000001, ThreePAr=0.001, FTRate=0.34399999999999997, ORBr=7.2000000000000002, DRBr=22.199999999999999, TRBr=15.4, ASTr=16.5, STLr=1.2, BLKr=4.5999999999999996, TOVr=15.699999999999999, USGr=24.100000000000001, OWS=9.5, DWS=5.2999999999999998, WS=14.800000000000001, WSper48=0.22699999999999998, OBPM=4.0, DBPM=2.7000000000000002, BPM=6.7000000000000002, VORP=6.7999999999999998, FG=835.0, FGA=1383.0, FGr=0.60399999999999998, ThreeP=0.0, ThreePA=1.0, ThreePr=0.0, TwoP=835.0, TwoPA=1382.0, TwoPr=0.60399999999999998, eFGr=0.60399999999999998, FT=364.0, FTA=476.0, FTr=0.76500000000000001, ORB=190.0, DRB=696.0, TRB=886.0, AST=371.0, STL=81.0, BLK=280.0, TOV=297.0, PF=216.0, PTS=2034.0)"
      ]
     },
     "execution_count": 106,
     "metadata": {},
     "output_type": "execute_result"
    }
   ],
   "source": [
    "data_refined[0]"
   ]
  },
  {
   "cell_type": "code",
   "execution_count": 259,
   "metadata": {
    "collapsed": false
   },
   "outputs": [],
   "source": [
    "#Some names ends with \"*\", so get rid of that. Get X(features) data and y(labels).\n",
    "X_data = []\n",
    "y_data = []\n",
    "for d in data_refined:\n",
    "    name = d.Name\n",
    "    if name[-1] == '*':\n",
    "        name = name[0:-1]\n",
    "    if mvps[int(d.Year)] == name:\n",
    "        y_data.append(1)\n",
    "    else:\n",
    "        y_data.append(0)\n",
    "    \n",
    "    features = [d.Games,d.MP,d.PER,d.TSr,d.ThreePAr,d.FTRate,d.ORBr,d.DRBr,d.TRBr,d.ASTr,d.STLr,d.BLKr,d.TOVr,d.USGr,d.OWS,d.DWS,d.WS,d.WSper48,d.OBPM,d.DBPM,d.BPM,d.VORP,d.FG,d.FGA,d.FGr,d.ThreeP,d.ThreePA,d.ThreePr,d.TwoP,d.TwoPA,d.TwoPr,d.eFGr,d.FT,d.FTA,d.FTr,d.ORB,d.DRB,d.TRB,d.AST,d.STL,d.BLK,d.TOV,d.PF,d.PTS]\n",
    "    X_data.append(features)   "
   ]
  },
  {
   "cell_type": "code",
   "execution_count": 241,
   "metadata": {
    "collapsed": true
   },
   "outputs": [],
   "source": [
    "#Construct training data for top1 prediction, use data from before 2010\n",
    "X_training_top1 = []\n",
    "y_training_top1 = []\n",
    "for d in data_refined:\n",
    "    year = d.Year\n",
    "    name = d.Name\n",
    "    if name[-1] == '*':\n",
    "        name = name[0:-1]\n",
    "    if year < 2010:\n",
    "        if mvps[int(d.Year)] == name:\n",
    "            y_training_top1.append(1000)\n",
    "        else:\n",
    "            y_training_top1.append(0)\n",
    "    \n",
    "        features = [d.Games,d.MP,d.PER,d.TSr,d.ThreePAr,d.FTRate,d.ORBr,d.DRBr,d.TRBr,d.ASTr,d.STLr,d.BLKr,d.TOVr,d.USGr,d.OWS,d.DWS,d.WS,d.WSper48,d.OBPM,d.DBPM,d.BPM,d.VORP,d.FG,d.FGA,d.FGr,d.ThreeP,d.ThreePA,d.ThreePr,d.TwoP,d.TwoPA,d.TwoPr,d.eFGr,d.FT,d.FTA,d.FTr,d.ORB,d.DRB,d.TRB,d.AST,d.STL,d.BLK,d.TOV,d.PF,d.PTS]\n",
    "        X_training_top1.append(features)"
   ]
  },
  {
   "cell_type": "code",
   "execution_count": 129,
   "metadata": {
    "collapsed": false
   },
   "outputs": [
    {
     "data": {
      "text/plain": [
       "38"
      ]
     },
     "execution_count": 129,
     "metadata": {},
     "output_type": "execute_result"
    }
   ],
   "source": [
    "#From 1980-2017, 38 years so 38 mvps\n",
    "sum(y_data)"
   ]
  },
  {
   "cell_type": "code",
   "execution_count": 130,
   "metadata": {
    "collapsed": false
   },
   "outputs": [
    {
     "data": {
      "text/plain": [
       "15519"
      ]
     },
     "execution_count": 130,
     "metadata": {},
     "output_type": "execute_result"
    }
   ],
   "source": [
    "len(y_data)"
   ]
  },
  {
   "cell_type": "code",
   "execution_count": 260,
   "metadata": {
    "collapsed": false
   },
   "outputs": [],
   "source": [
    "X_training = X_data[:len(X_data)*3//4]\n",
    "y_training = y_data[:len(X_data)*3//4]\n",
    "X_testing = X_data[len(X_data)*3//4:]\n",
    "y_testing = y_data[len(X_data)*3//4:]"
   ]
  },
  {
   "cell_type": "code",
   "execution_count": 261,
   "metadata": {
    "collapsed": false
   },
   "outputs": [
    {
     "data": {
      "text/plain": [
       "11639"
      ]
     },
     "execution_count": 261,
     "metadata": {},
     "output_type": "execute_result"
    }
   ],
   "source": [
    "len(X_training)"
   ]
  },
  {
   "cell_type": "code",
   "execution_count": 146,
   "metadata": {
    "collapsed": true
   },
   "outputs": [],
   "source": [
    "from sklearn.ensemble import RandomForestClassifier\n",
    "from sklearn.ensemble import RandomForestRegressor"
   ]
  },
  {
   "cell_type": "code",
   "execution_count": 252,
   "metadata": {
    "collapsed": true
   },
   "outputs": [],
   "source": [
    "def evaluate(pred, labels):\n",
    "    TP=0\n",
    "    TN=0\n",
    "    FP=0\n",
    "    FN=0\n",
    "    for (a,b) in zip(pred, labels):\n",
    "        if (a==True and b==True):\n",
    "            TP = TP+1\n",
    "        elif (a==True and b==False):\n",
    "            FP = FP+1\n",
    "        elif (a==False and b==True):\n",
    "            FN = FN+1\n",
    "        elif (a==False and b==False):\n",
    "            TN = TN+1\n",
    "    \n",
    "    TPR = TP/(TP+FN)\n",
    "    TNR = TN/(TN+FP)\n",
    "    BER = 1-(TPR+TNR)/2\n",
    "    if TP+FP == 0:\n",
    "        PRECISION = 0\n",
    "    else:\n",
    "        PRECISION = TP / (TP+FP)\n",
    "    if TP+FN == 0:\n",
    "        RECALL = 0\n",
    "    else:\n",
    "        RECALL = TP / (TP+FN)\n",
    "    print(\"Statistics for our training model: \")\n",
    "    print(\"\\nTrue positives: \" + str(TP))\n",
    "    print(\"True negatives: \" + str(TN))\n",
    "    print(\"False positives: \" + str(FP))\n",
    "    print(\"False negatives: \" + str(FN))\n",
    "    print(\"\\nAccuracy: \" + str((TP + TN)/len(pred)))\n",
    "    print(\"BER is \" + str(BER))\n",
    "    print(\"Precision: \" + str(PRECISION))\n",
    "    print(\"Recall: \" + str(RECALL))"
   ]
  },
  {
   "cell_type": "code",
   "execution_count": 269,
   "metadata": {
    "collapsed": false
   },
   "outputs": [
    {
     "name": "stdout",
     "output_type": "stream",
     "text": [
      "Statistics for our training model: \n",
      "\n",
      "True positives: 8\n",
      "True negatives: 3836\n",
      "False positives: 36\n",
      "False negatives: 0\n",
      "\n",
      "Accuracy: 0.9907216494845361\n",
      "BER is 0.004648760330578483\n",
      "Precision: 0.18181818181818182\n",
      "Recall: 1.0\n"
     ]
    }
   ],
   "source": [
    "clf_RFC = RandomForestClassifier(n_estimators=10,max_depth=2, random_state=0,class_weight = {0:1,1:160})\n",
    "clf_RFC.fit(X_training, y_training)\n",
    "pred_RFC = clf_RFC.predict(X_testing)\n",
    "evaluate(pred_RFC, y_testing)"
   ]
  },
  {
   "cell_type": "code",
   "execution_count": 249,
   "metadata": {
    "collapsed": false
   },
   "outputs": [],
   "source": [
    "from sklearn import svm"
   ]
  },
  {
   "cell_type": "code",
   "execution_count": 281,
   "metadata": {
    "collapsed": false
   },
   "outputs": [
    {
     "name": "stdout",
     "output_type": "stream",
     "text": [
      "Statistics for our training model: \n",
      "\n",
      "True positives: 0\n",
      "True negatives: 3872\n",
      "False positives: 0\n",
      "False negatives: 8\n",
      "\n",
      "Accuracy: 0.9979381443298969\n",
      "BER is 0.5\n",
      "Precision: 0\n",
      "Recall: 0.0\n"
     ]
    }
   ],
   "source": [
    "clf_svm1 = svm.SVC(decision_function_shape='ovo',class_weight = {0:1,1:1000000})\n",
    "clf_svm1.fit(X_training, y_training)\n",
    "pred_svm1 = clf_svm1.predict(X_testing)\n",
    "evaluate(pred_svm1, y_testing)"
   ]
  },
  {
   "cell_type": "code",
   "execution_count": 280,
   "metadata": {
    "collapsed": false
   },
   "outputs": [
    {
     "name": "stdout",
     "output_type": "stream",
     "text": [
      "Statistics for our training model: \n",
      "\n",
      "True positives: 5\n",
      "True negatives: 3862\n",
      "False positives: 10\n",
      "False negatives: 3\n",
      "\n",
      "Accuracy: 0.9966494845360825\n",
      "BER is 0.1887913223140496\n",
      "Precision: 0.3333333333333333\n",
      "Recall: 0.625\n"
     ]
    }
   ],
   "source": [
    "clf_svm2 = svm.LinearSVC(class_weight = {0:1,1:1000000})\n",
    "clf_svm2.fit(X_training, y_training)\n",
    "pred_svm2 = clf_svm2.predict(X_testing)\n",
    "evaluate(pred_svm2, y_testing)"
   ]
  },
  {
   "cell_type": "code",
   "execution_count": 277,
   "metadata": {
    "collapsed": false
   },
   "outputs": [
    {
     "data": {
      "text/plain": [
       "RandomForestRegressor(bootstrap=True, criterion='mse', max_depth=1,\n",
       "           max_features='auto', max_leaf_nodes=None, min_samples_leaf=1,\n",
       "           min_samples_split=2, min_weight_fraction_leaf=0.0,\n",
       "           n_estimators=10, n_jobs=1, oob_score=False, random_state=0,\n",
       "           verbose=0, warm_start=False)"
      ]
     },
     "execution_count": 277,
     "metadata": {},
     "output_type": "execute_result"
    }
   ],
   "source": [
    "#Random forest regressor, for top1 prediction\n",
    "clf_RFR = RandomForestRegressor(max_depth=1, random_state=0)\n",
    "clf_RFR.fit(X_training_top1, y_training_top1)"
   ]
  },
  {
   "cell_type": "code",
   "execution_count": 246,
   "metadata": {
    "collapsed": true
   },
   "outputs": [],
   "source": [
    "#Construct testing data for top1 prediction\n",
    "X_testing_top1 = {}\n",
    "for i in range(2010,2018):\n",
    "    X = []\n",
    "    for d in data_refined:\n",
    "        year = d.Year\n",
    "        if year == i:\n",
    "            tmp = [d.Name,d.Games,d.MP,d.PER,d.TSr,d.ThreePAr,d.FTRate,d.ORBr,d.DRBr,d.TRBr,d.ASTr,d.STLr,d.BLKr,d.TOVr,d.USGr,d.OWS,d.DWS,d.WS,d.WSper48,d.OBPM,d.DBPM,d.BPM,d.VORP,d.FG,d.FGA,d.FGr,d.ThreeP,d.ThreePA,d.ThreePr,d.TwoP,d.TwoPA,d.TwoPr,d.eFGr,d.FT,d.FTA,d.FTr,d.ORB,d.DRB,d.TRB,d.AST,d.STL,d.BLK,d.TOV,d.PF,d.PTS]\n",
    "            X.append(tmp)\n",
    "    X_testing_top1[i] = X"
   ]
  },
  {
   "cell_type": "code",
   "execution_count": 247,
   "metadata": {
    "collapsed": false
   },
   "outputs": [
    {
     "name": "stdout",
     "output_type": "stream",
     "text": [
      "2010 mvp was LeBron James\n",
      "    Top 5 in our predictions are below: \n",
      "    LeBron James has score [ 478.34681252]\n",
      "    Kevin Durant has score [ 364.32215063]\n",
      "    Dwyane Wade has score [ 114.8707242]\n",
      "    Zydrunas Ilgauskas has score [ 0.8460623]\n",
      "    Zaza Pachulia has score [ 0.8460623]\n",
      "predict CORRECT for year 2010\n",
      "\n",
      "2011 mvp was Derrick Rose\n",
      "    Top 5 in our predictions are below: \n",
      "    LeBron James has score [ 162.60278602]\n",
      "    Zydrunas Ilgauskas has score [ 0.8460623]\n",
      "    Zaza Pachulia has score [ 0.8460623]\n",
      "    Zach Randolph has score [ 0.8460623]\n",
      "    Zabian Dowdell has score [ 0.8460623]\n",
      "predict INCORRECT for year 2011\n",
      "\n",
      "2012 mvp was LeBron James\n",
      "    Top 5 in our predictions are below: \n",
      "    LeBron James has score [ 114.8707242]\n",
      "    Zaza Pachulia has score [ 0.8460623]\n",
      "    Zach Randolph has score [ 0.8460623]\n",
      "    Yi Jianlian has score [ 0.8460623]\n",
      "    Xavier Silas has score [ 0.8460623]\n",
      "predict CORRECT for year 2012\n",
      "\n",
      "2013 mvp was LeBron James\n",
      "    Top 5 in our predictions are below: \n",
      "    LeBron James has score [ 478.34681252]\n",
      "    Kevin Durant has score [ 478.34681252]\n",
      "    Zaza Pachulia has score [ 0.8460623]\n",
      "    Zach Randolph has score [ 0.8460623]\n",
      "    Xavier Henry has score [ 0.8460623]\n",
      "predict CORRECT for year 2013\n",
      "\n",
      "2014 mvp was Kevin Durant\n",
      "    Top 5 in our predictions are below: \n",
      "    LeBron James has score [ 478.34681252]\n",
      "    Kevin Durant has score [ 478.34681252]\n",
      "    Kevin Love has score [ 38.07429716]\n",
      "    Zaza Pachulia has score [ 0.8460623]\n",
      "    Zach Randolph has score [ 0.8460623]\n",
      "predict CORRECT for year 2014\n",
      "\n",
      "2015 mvp was Stephen Curry\n",
      "    Top 5 in our predictions are below: \n",
      "    Stephen Curry has score [ 478.34681252]\n",
      "    James Harden has score [ 478.34681252]\n",
      "    Chris Paul has score [ 364.32215063]\n",
      "    Russell Westbrook has score [ 114.8707242]\n",
      "    Zoran Dragic has score [ 0.8460623]\n",
      "predict CORRECT for year 2015\n",
      "\n",
      "2016 mvp was Stephen Curry\n",
      "    Top 5 in our predictions are below: \n",
      "    Stephen Curry has score [ 478.34681252]\n",
      "    Russell Westbrook has score [ 114.8707242]\n",
      "    LeBron James has score [ 114.8707242]\n",
      "    Zaza Pachulia has score [ 0.8460623]\n",
      "    Zach Randolph has score [ 0.8460623]\n",
      "predict CORRECT for year 2016\n",
      "\n",
      "2017 mvp was Russell Westbrook\n",
      "    Top 5 in our predictions are below: \n",
      "    Russell Westbrook has score [ 114.8707242]\n",
      "    James Harden has score [ 114.8707242]\n",
      "    LeBron James has score [ 38.07429716]\n",
      "    Zaza Pachulia has score [ 0.8460623]\n",
      "    Zach Randolph has score [ 0.8460623]\n",
      "predict CORRECT for year 2017\n",
      "\n",
      "Total correct are 7 out of 8\n"
     ]
    }
   ],
   "source": [
    "correct = 0\n",
    "for year in range(2010,2018):\n",
    "    #X is all players' data of that year. Make prediction on each then sort in descending order\n",
    "    X = X_testing_top1[year]\n",
    "    print (str(year) + ' mvp was ' + str(mvps[year]))\n",
    "    for idx in range(len(X)):\n",
    "        pred = clf_RFR.predict(X[idx][1:])\n",
    "        X[idx] = [pred] + X[idx] \n",
    "    X.sort(reverse = True)\n",
    "    \n",
    "    #in case of a tie, get all the top ranking players\n",
    "    tops = [X[0][1]]\n",
    "    for idx in range(1,len(X)):\n",
    "        if X[idx][0] == X[0][0]:\n",
    "            tops.append(X[idx][1])\n",
    "        else:\n",
    "            break\n",
    "            \n",
    "    print ('    Top 5 in our predictions are below: ')\n",
    "    for i in range(5):\n",
    "        print ('    ' + str(X[i][1]) + ' has score ' + str(X[i][0]))\n",
    "    if mvps[year] in tops:\n",
    "        correct += 1\n",
    "        print ('predict CORRECT for year ' + str(year))\n",
    "    else:\n",
    "        print ('predict INCORRECT for year ' + str(year))\n",
    "    print ()\n",
    "print ('Total correct are ' + str(correct) + ' out of 8')"
   ]
  },
  {
   "cell_type": "code",
   "execution_count": null,
   "metadata": {
    "collapsed": true
   },
   "outputs": [],
   "source": []
  },
  {
   "cell_type": "code",
   "execution_count": null,
   "metadata": {
    "collapsed": true
   },
   "outputs": [],
   "source": []
  }
 ],
 "metadata": {
  "anaconda-cloud": {},
  "kernelspec": {
   "display_name": "Python [conda root]",
   "language": "python",
   "name": "conda-root-py"
  },
  "language_info": {
   "codemirror_mode": {
    "name": "ipython",
    "version": 3
   },
   "file_extension": ".py",
   "mimetype": "text/x-python",
   "name": "python",
   "nbconvert_exporter": "python",
   "pygments_lexer": "ipython3",
   "version": "3.5.2"
  }
 },
 "nbformat": 4,
 "nbformat_minor": 1
}
