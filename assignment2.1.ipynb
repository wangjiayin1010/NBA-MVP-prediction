{
 "cells": [
  {
   "cell_type": "code",
   "execution_count": 3,
   "metadata": {
    "collapsed": true
   },
   "outputs": [],
   "source": [
    "import pandas as pd"
   ]
  },
  {
   "cell_type": "code",
   "execution_count": 153,
   "metadata": {
    "collapsed": true
   },
   "outputs": [],
   "source": [
    "import warnings; warnings.simplefilter('ignore')"
   ]
  },
  {
   "cell_type": "code",
   "execution_count": 342,
   "metadata": {
    "collapsed": true
   },
   "outputs": [],
   "source": [
    "data = pd.read_csv('Seasons_Stats.csv').fillna(value = 0)"
   ]
  },
  {
   "cell_type": "code",
   "execution_count": 521,
   "metadata": {
    "collapsed": true
   },
   "outputs": [],
   "source": [
    "voting_data = pd.read_csv('mvp_voting_stats.csv').fillna(value = 0)"
   ]
  },
  {
   "cell_type": "code",
   "execution_count": 573,
   "metadata": {
    "collapsed": false
   },
   "outputs": [],
   "source": [
    "data2018 = pd.read_csv('current_season_stats_12_03.csv').fillna(value = 0)"
   ]
  },
  {
   "cell_type": "code",
   "execution_count": 339,
   "metadata": {
    "collapsed": false
   },
   "outputs": [
    {
     "data": {
      "text/html": [
       "<div>\n",
       "<table border=\"1\" class=\"dataframe\">\n",
       "  <thead>\n",
       "    <tr style=\"text-align: right;\">\n",
       "      <th></th>\n",
       "      <th>Unnamed: 0</th>\n",
       "      <th>Year</th>\n",
       "      <th>Player</th>\n",
       "      <th>Pos</th>\n",
       "      <th>Age</th>\n",
       "      <th>Tm</th>\n",
       "      <th>G</th>\n",
       "      <th>GS</th>\n",
       "      <th>MP</th>\n",
       "      <th>PER</th>\n",
       "      <th>...</th>\n",
       "      <th>FT%</th>\n",
       "      <th>ORB</th>\n",
       "      <th>DRB</th>\n",
       "      <th>TRB</th>\n",
       "      <th>AST</th>\n",
       "      <th>STL</th>\n",
       "      <th>BLK</th>\n",
       "      <th>TOV</th>\n",
       "      <th>PF</th>\n",
       "      <th>PTS</th>\n",
       "    </tr>\n",
       "  </thead>\n",
       "  <tbody>\n",
       "    <tr>\n",
       "      <th>0</th>\n",
       "      <td>488</td>\n",
       "      <td>1952.0</td>\n",
       "      <td>Paul Arizin*</td>\n",
       "      <td>SF</td>\n",
       "      <td>23.0</td>\n",
       "      <td>PHW</td>\n",
       "      <td>66.0</td>\n",
       "      <td>0.0</td>\n",
       "      <td>2939.0</td>\n",
       "      <td>25.5</td>\n",
       "      <td>...</td>\n",
       "      <td>0.818</td>\n",
       "      <td>0.0</td>\n",
       "      <td>0.0</td>\n",
       "      <td>745.0</td>\n",
       "      <td>170.0</td>\n",
       "      <td>0.0</td>\n",
       "      <td>0.0</td>\n",
       "      <td>0.0</td>\n",
       "      <td>250.0</td>\n",
       "      <td>1674.0</td>\n",
       "    </tr>\n",
       "    <tr>\n",
       "      <th>1</th>\n",
       "      <td>489</td>\n",
       "      <td>1952.0</td>\n",
       "      <td>Cliff Barker</td>\n",
       "      <td>SG</td>\n",
       "      <td>31.0</td>\n",
       "      <td>INO</td>\n",
       "      <td>44.0</td>\n",
       "      <td>0.0</td>\n",
       "      <td>494.0</td>\n",
       "      <td>10.8</td>\n",
       "      <td>...</td>\n",
       "      <td>0.588</td>\n",
       "      <td>0.0</td>\n",
       "      <td>0.0</td>\n",
       "      <td>81.0</td>\n",
       "      <td>70.0</td>\n",
       "      <td>0.0</td>\n",
       "      <td>0.0</td>\n",
       "      <td>0.0</td>\n",
       "      <td>56.0</td>\n",
       "      <td>126.0</td>\n",
       "    </tr>\n",
       "    <tr>\n",
       "      <th>2</th>\n",
       "      <td>490</td>\n",
       "      <td>1952.0</td>\n",
       "      <td>Don Barksdale*</td>\n",
       "      <td>PF</td>\n",
       "      <td>28.0</td>\n",
       "      <td>BLB</td>\n",
       "      <td>62.0</td>\n",
       "      <td>0.0</td>\n",
       "      <td>2014.0</td>\n",
       "      <td>15.8</td>\n",
       "      <td>...</td>\n",
       "      <td>0.691</td>\n",
       "      <td>0.0</td>\n",
       "      <td>0.0</td>\n",
       "      <td>601.0</td>\n",
       "      <td>137.0</td>\n",
       "      <td>0.0</td>\n",
       "      <td>0.0</td>\n",
       "      <td>0.0</td>\n",
       "      <td>230.0</td>\n",
       "      <td>781.0</td>\n",
       "    </tr>\n",
       "    <tr>\n",
       "      <th>3</th>\n",
       "      <td>491</td>\n",
       "      <td>1952.0</td>\n",
       "      <td>Leo Barnhorst</td>\n",
       "      <td>SF</td>\n",
       "      <td>27.0</td>\n",
       "      <td>INO</td>\n",
       "      <td>66.0</td>\n",
       "      <td>0.0</td>\n",
       "      <td>2344.0</td>\n",
       "      <td>15.9</td>\n",
       "      <td>...</td>\n",
       "      <td>0.652</td>\n",
       "      <td>0.0</td>\n",
       "      <td>0.0</td>\n",
       "      <td>430.0</td>\n",
       "      <td>255.0</td>\n",
       "      <td>0.0</td>\n",
       "      <td>0.0</td>\n",
       "      <td>0.0</td>\n",
       "      <td>196.0</td>\n",
       "      <td>820.0</td>\n",
       "    </tr>\n",
       "    <tr>\n",
       "      <th>4</th>\n",
       "      <td>492</td>\n",
       "      <td>1952.0</td>\n",
       "      <td>Elmer Behnke</td>\n",
       "      <td>C</td>\n",
       "      <td>22.0</td>\n",
       "      <td>MLH</td>\n",
       "      <td>4.0</td>\n",
       "      <td>0.0</td>\n",
       "      <td>55.0</td>\n",
       "      <td>7.8</td>\n",
       "      <td>...</td>\n",
       "      <td>0.571</td>\n",
       "      <td>0.0</td>\n",
       "      <td>0.0</td>\n",
       "      <td>17.0</td>\n",
       "      <td>4.0</td>\n",
       "      <td>0.0</td>\n",
       "      <td>0.0</td>\n",
       "      <td>0.0</td>\n",
       "      <td>13.0</td>\n",
       "      <td>16.0</td>\n",
       "    </tr>\n",
       "  </tbody>\n",
       "</table>\n",
       "<p>5 rows × 53 columns</p>\n",
       "</div>"
      ],
      "text/plain": [
       "   Unnamed: 0    Year          Player Pos   Age   Tm     G   GS      MP   PER  \\\n",
       "0         488  1952.0    Paul Arizin*  SF  23.0  PHW  66.0  0.0  2939.0  25.5   \n",
       "1         489  1952.0    Cliff Barker  SG  31.0  INO  44.0  0.0   494.0  10.8   \n",
       "2         490  1952.0  Don Barksdale*  PF  28.0  BLB  62.0  0.0  2014.0  15.8   \n",
       "3         491  1952.0   Leo Barnhorst  SF  27.0  INO  66.0  0.0  2344.0  15.9   \n",
       "4         492  1952.0    Elmer Behnke   C  22.0  MLH   4.0  0.0    55.0   7.8   \n",
       "\n",
       "    ...      FT%  ORB  DRB    TRB    AST  STL  BLK  TOV     PF     PTS  \n",
       "0   ...    0.818  0.0  0.0  745.0  170.0  0.0  0.0  0.0  250.0  1674.0  \n",
       "1   ...    0.588  0.0  0.0   81.0   70.0  0.0  0.0  0.0   56.0   126.0  \n",
       "2   ...    0.691  0.0  0.0  601.0  137.0  0.0  0.0  0.0  230.0   781.0  \n",
       "3   ...    0.652  0.0  0.0  430.0  255.0  0.0  0.0  0.0  196.0   820.0  \n",
       "4   ...    0.571  0.0  0.0   17.0    4.0  0.0  0.0  0.0   13.0    16.0  \n",
       "\n",
       "[5 rows x 53 columns]"
      ]
     },
     "execution_count": 339,
     "metadata": {},
     "output_type": "execute_result"
    }
   ],
   "source": [
    "data.head()"
   ]
  },
  {
   "cell_type": "code",
   "execution_count": 522,
   "metadata": {
    "collapsed": false
   },
   "outputs": [
    {
     "data": {
      "text/html": [
       "<div>\n",
       "<table border=\"1\" class=\"dataframe\">\n",
       "  <thead>\n",
       "    <tr style=\"text-align: right;\">\n",
       "      <th></th>\n",
       "      <th>Year</th>\n",
       "      <th>Rank</th>\n",
       "      <th>Player</th>\n",
       "      <th>Age</th>\n",
       "      <th>Tm</th>\n",
       "      <th>First</th>\n",
       "      <th>Pts_Won</th>\n",
       "      <th>Pts_Max</th>\n",
       "      <th>Share</th>\n",
       "      <th>G</th>\n",
       "      <th>...</th>\n",
       "      <th>PTS</th>\n",
       "      <th>TRB</th>\n",
       "      <th>AST</th>\n",
       "      <th>STL</th>\n",
       "      <th>BLK</th>\n",
       "      <th>FGr</th>\n",
       "      <th>ThreePr</th>\n",
       "      <th>FTr</th>\n",
       "      <th>WS</th>\n",
       "      <th>WSper48</th>\n",
       "    </tr>\n",
       "  </thead>\n",
       "  <tbody>\n",
       "    <tr>\n",
       "      <th>0</th>\n",
       "      <td>1980</td>\n",
       "      <td>1</td>\n",
       "      <td>Kareem Abdul-Jabbar</td>\n",
       "      <td>32</td>\n",
       "      <td>LAL</td>\n",
       "      <td>147.0</td>\n",
       "      <td>147.0</td>\n",
       "      <td>221</td>\n",
       "      <td>0.665</td>\n",
       "      <td>82</td>\n",
       "      <td>...</td>\n",
       "      <td>24.8</td>\n",
       "      <td>10.8</td>\n",
       "      <td>4.5</td>\n",
       "      <td>1.0</td>\n",
       "      <td>3.4</td>\n",
       "      <td>0.604</td>\n",
       "      <td>0.000</td>\n",
       "      <td>0.765</td>\n",
       "      <td>14.8</td>\n",
       "      <td>0.227</td>\n",
       "    </tr>\n",
       "    <tr>\n",
       "      <th>1</th>\n",
       "      <td>1980</td>\n",
       "      <td>2</td>\n",
       "      <td>Julius Erving</td>\n",
       "      <td>29</td>\n",
       "      <td>PHI</td>\n",
       "      <td>31.5</td>\n",
       "      <td>31.5</td>\n",
       "      <td>221</td>\n",
       "      <td>0.143</td>\n",
       "      <td>78</td>\n",
       "      <td>...</td>\n",
       "      <td>26.9</td>\n",
       "      <td>7.4</td>\n",
       "      <td>4.6</td>\n",
       "      <td>2.2</td>\n",
       "      <td>1.8</td>\n",
       "      <td>0.519</td>\n",
       "      <td>0.200</td>\n",
       "      <td>0.787</td>\n",
       "      <td>12.5</td>\n",
       "      <td>0.213</td>\n",
       "    </tr>\n",
       "    <tr>\n",
       "      <th>2</th>\n",
       "      <td>1980</td>\n",
       "      <td>3</td>\n",
       "      <td>George Gervin</td>\n",
       "      <td>27</td>\n",
       "      <td>SAS</td>\n",
       "      <td>19.0</td>\n",
       "      <td>19.0</td>\n",
       "      <td>221</td>\n",
       "      <td>0.086</td>\n",
       "      <td>78</td>\n",
       "      <td>...</td>\n",
       "      <td>33.1</td>\n",
       "      <td>5.2</td>\n",
       "      <td>2.6</td>\n",
       "      <td>1.4</td>\n",
       "      <td>1.0</td>\n",
       "      <td>0.528</td>\n",
       "      <td>0.314</td>\n",
       "      <td>0.852</td>\n",
       "      <td>10.6</td>\n",
       "      <td>0.173</td>\n",
       "    </tr>\n",
       "    <tr>\n",
       "      <th>3</th>\n",
       "      <td>1980</td>\n",
       "      <td>4</td>\n",
       "      <td>Larry Bird</td>\n",
       "      <td>23</td>\n",
       "      <td>BOS</td>\n",
       "      <td>15.0</td>\n",
       "      <td>15.0</td>\n",
       "      <td>221</td>\n",
       "      <td>0.068</td>\n",
       "      <td>82</td>\n",
       "      <td>...</td>\n",
       "      <td>21.3</td>\n",
       "      <td>10.4</td>\n",
       "      <td>4.5</td>\n",
       "      <td>1.7</td>\n",
       "      <td>0.6</td>\n",
       "      <td>0.474</td>\n",
       "      <td>0.406</td>\n",
       "      <td>0.836</td>\n",
       "      <td>11.2</td>\n",
       "      <td>0.182</td>\n",
       "    </tr>\n",
       "    <tr>\n",
       "      <th>4</th>\n",
       "      <td>1980</td>\n",
       "      <td>5T</td>\n",
       "      <td>Tiny Archibald</td>\n",
       "      <td>31</td>\n",
       "      <td>BOS</td>\n",
       "      <td>2.0</td>\n",
       "      <td>2.0</td>\n",
       "      <td>221</td>\n",
       "      <td>0.009</td>\n",
       "      <td>80</td>\n",
       "      <td>...</td>\n",
       "      <td>14.1</td>\n",
       "      <td>2.5</td>\n",
       "      <td>8.4</td>\n",
       "      <td>1.3</td>\n",
       "      <td>0.1</td>\n",
       "      <td>0.482</td>\n",
       "      <td>0.222</td>\n",
       "      <td>0.830</td>\n",
       "      <td>8.9</td>\n",
       "      <td>0.148</td>\n",
       "    </tr>\n",
       "  </tbody>\n",
       "</table>\n",
       "<p>5 rows × 21 columns</p>\n",
       "</div>"
      ],
      "text/plain": [
       "   Year Rank               Player  Age   Tm  First  Pts_Won  Pts_Max  Share  \\\n",
       "0  1980    1  Kareem Abdul-Jabbar   32  LAL  147.0    147.0      221  0.665   \n",
       "1  1980    2        Julius Erving   29  PHI   31.5     31.5      221  0.143   \n",
       "2  1980    3        George Gervin   27  SAS   19.0     19.0      221  0.086   \n",
       "3  1980    4           Larry Bird   23  BOS   15.0     15.0      221  0.068   \n",
       "4  1980   5T       Tiny Archibald   31  BOS    2.0      2.0      221  0.009   \n",
       "\n",
       "    G   ...      PTS   TRB  AST  STL  BLK    FGr  ThreePr    FTr    WS  \\\n",
       "0  82   ...     24.8  10.8  4.5  1.0  3.4  0.604    0.000  0.765  14.8   \n",
       "1  78   ...     26.9   7.4  4.6  2.2  1.8  0.519    0.200  0.787  12.5   \n",
       "2  78   ...     33.1   5.2  2.6  1.4  1.0  0.528    0.314  0.852  10.6   \n",
       "3  82   ...     21.3  10.4  4.5  1.7  0.6  0.474    0.406  0.836  11.2   \n",
       "4  80   ...     14.1   2.5  8.4  1.3  0.1  0.482    0.222  0.830   8.9   \n",
       "\n",
       "   WSper48  \n",
       "0    0.227  \n",
       "1    0.213  \n",
       "2    0.173  \n",
       "3    0.182  \n",
       "4    0.148  \n",
       "\n",
       "[5 rows x 21 columns]"
      ]
     },
     "execution_count": 522,
     "metadata": {},
     "output_type": "execute_result"
    }
   ],
   "source": [
    "voting_data.head()"
   ]
  },
  {
   "cell_type": "code",
   "execution_count": 343,
   "metadata": {
    "collapsed": false
   },
   "outputs": [],
   "source": [
    "filter = data[\"Year\"] >= 1980\n",
    "data = data[filter]"
   ]
  },
  {
   "cell_type": "code",
   "execution_count": 344,
   "metadata": {
    "collapsed": false
   },
   "outputs": [
    {
     "data": {
      "text/plain": [
       "18927"
      ]
     },
     "execution_count": 344,
     "metadata": {},
     "output_type": "execute_result"
    }
   ],
   "source": [
    "len(data)"
   ]
  },
  {
   "cell_type": "code",
   "execution_count": 126,
   "metadata": {
    "collapsed": true
   },
   "outputs": [],
   "source": [
    "mvps = {2017:'Russell Westbrook', 2016:'Stephen Curry', 2015:'Stephen Curry', 2014:'Kevin Durant', 2013:'LeBron James',2012:'LeBron James',2011:'Derrick Rose',2010:'LeBron James',2009:'LeBron James',2008:'Kobe Bryant',2007:'Dirk Nowitzki',2006:'Steve Nash',2005:'Steve Nash',2004:'Kevin Garnett',2003:'Tim Duncan',2002:'Tim Duncan',2001:'Allen Iverson',2000:'''Shaquille O'Neal''',1999:'Karl Malone',1998:'Michael Jordan',1997:'Karl Malone',1996:'Michael Jordan',1995:'David Robinson',1994:'Hakeem Olajuwon',1993:'Charles Barkley',1992:'Michael Jordan',1991:'Michael Jordan',1990:'Magic Johnson',1989:'Magic Johnson',1988:'Michael Jordan',1987:'Magic Johnson',1986:'Larry Bird',1985:'Larry Bird',1984:'Larry Bird',1983:'Moses Malone',1982:'Moses Malone',1981:'Julius Erving',1980:'Kareem Abdul-Jabbar'}"
   ]
  },
  {
   "cell_type": "code",
   "execution_count": 18,
   "metadata": {
    "collapsed": true
   },
   "outputs": [],
   "source": [
    "from collections import namedtuple"
   ]
  },
  {
   "cell_type": "code",
   "execution_count": 78,
   "metadata": {
    "collapsed": false
   },
   "outputs": [],
   "source": [
    "Player = namedtuple('Player', ['Year','Name', 'Pos', 'Games','MP','PER','TSr','ThreePAr','FTRate','ORBr','DRBr','TRBr','ASTr','STLr','BLKr','TOVr','USGr','OWS','DWS','WS','WSper48','OBPM','DBPM','BPM','VORP','FG','FGA','FGr','ThreeP','ThreePA','ThreePr','TwoP','TwoPA','TwoPr','eFGr','FT','FTA','FTr','ORB','DRB','TRB','AST','STL','BLK','TOV','PF','PTS'])"
   ]
  },
  {
   "cell_type": "code",
   "execution_count": 122,
   "metadata": {
    "collapsed": false
   },
   "outputs": [],
   "source": [
    "#Since row.FT%, row.3p, etc is not valid because a valid string cannot have % in it or start with a number, and I don't know how to escape it in this case, I have to use their indexes as below.\n",
    "#11:TS%, 12:3PAr,14:ORB%,15:DRB%,16:TRB%,17:AST%,18:STL%,19:BLK%,20:TOV%,21:USG%,26:WS/48,34:FG%,35:3P,36:3PA,37:3P%,38:2P,39:2PA,40:2P%,41:eFG%,44:FT%"
   ]
  },
  {
   "cell_type": "code",
   "execution_count": 300,
   "metadata": {
    "collapsed": false
   },
   "outputs": [
    {
     "data": {
      "text/plain": [
       "18927"
      ]
     },
     "execution_count": 300,
     "metadata": {},
     "output_type": "execute_result"
    }
   ],
   "source": [
    "len(data)"
   ]
  },
  {
   "cell_type": "code",
   "execution_count": 366,
   "metadata": {
    "collapsed": false
   },
   "outputs": [],
   "source": [
    "#Combine players who played for multiple teams in the same season\n",
    "data_refined = []\n",
    "y = []\n",
    "mul_team_player = None\n",
    "for row in data.itertuples():\n",
    "    # get rid of the * at the end of some players' names\n",
    "    player_name = None\n",
    "    if row.Player[-1] == '*':\n",
    "        player_name = row.Player[0:-1]   \n",
    "    else:\n",
    "        player_name = row.Player\n",
    "    \n",
    "    # when the current player is new or did not play for multiple teams in the same season\n",
    "    if mul_team_player != player_name:\n",
    "        \n",
    "        data_refined.append(Player(row.Year,player_name,row.Pos,row.G,row.MP,row.PER,row[11],row[12],row.FTr,row[14],row[15],row[16],row[17],row[18],row[19],row[20],row[21],row.OWS,row.DWS,row.WS,row[26],row.OBPM,row.DBPM,row.BPM,row.VORP,row.FG,row.FGA,row[34],row[35],row[36],row[37],row[38],row[39],row[40],row[41],row.FT,row.FTA,row[44],row.ORB,row.DRB,row.TRB,row.AST,row.STL,row.BLK,row.TOV,row.PF,row.PTS))\n",
    "        # if the team is TOT: the current play has played for multiple teams\n",
    "        if row.Tm == \"TOT\":\n",
    "            mul_team_player = row.Player # mark the name of mul_team_player"
   ]
  },
  {
   "cell_type": "code",
   "execution_count": 367,
   "metadata": {
    "collapsed": false
   },
   "outputs": [
    {
     "data": {
      "text/plain": [
       "15578"
      ]
     },
     "execution_count": 367,
     "metadata": {},
     "output_type": "execute_result"
    }
   ],
   "source": [
    "len(data_refined)"
   ]
  },
  {
   "cell_type": "code",
   "execution_count": 368,
   "metadata": {
    "collapsed": false
   },
   "outputs": [
    {
     "data": {
      "text/plain": [
       "Player(Year=1980.0, Name='Kareem Abdul-Jabbar', Pos='C', Games=82.0, MP=3143.0, PER=25.300000000000001, TSr=0.63900000000000001, ThreePAr=0.001, FTRate=0.34399999999999997, ORBr=7.2000000000000002, DRBr=22.199999999999999, TRBr=15.4, ASTr=16.5, STLr=1.2, BLKr=4.5999999999999996, TOVr=15.699999999999999, USGr=24.100000000000001, OWS=9.5, DWS=5.2999999999999998, WS=14.800000000000001, WSper48=0.22699999999999998, OBPM=4.0, DBPM=2.7000000000000002, BPM=6.7000000000000002, VORP=6.7999999999999998, FG=835.0, FGA=1383.0, FGr=0.60399999999999998, ThreeP=0.0, ThreePA=1.0, ThreePr=0.0, TwoP=835.0, TwoPA=1382.0, TwoPr=0.60399999999999998, eFGr=0.60399999999999998, FT=364.0, FTA=476.0, FTr=0.76500000000000001, ORB=190.0, DRB=696.0, TRB=886.0, AST=371.0, STL=81.0, BLK=280.0, TOV=297.0, PF=216.0, PTS=2034.0)"
      ]
     },
     "execution_count": 368,
     "metadata": {},
     "output_type": "execute_result"
    }
   ],
   "source": [
    "data_refined[0]"
   ]
  },
  {
   "cell_type": "code",
   "execution_count": 574,
   "metadata": {
    "collapsed": false
   },
   "outputs": [],
   "source": [
    "#Some names ends with \"*\", so get rid of that. Get X(features) data and y(labels).\n",
    "X_data = []\n",
    "X_data_reduced1 = []\n",
    "X_data_reduced2 = []\n",
    "y_data = []\n",
    "for d in data_refined:\n",
    "    name = d.Name\n",
    "    if name[-1] == '*':\n",
    "        name = name[0:-1]\n",
    "    if mvps[int(d.Year)] == name:\n",
    "        y_data.append(1)\n",
    "    else:\n",
    "        y_data.append(0)\n",
    "        \n",
    "    #NOTE: Make sure to change the features here\n",
    "    features1 = [d.PER,d.TSr,d.ThreePAr,d.FTRate,d.ORBr,d.DRBr,d.TRBr,d.ASTr,d.STLr,d.BLKr,d.TOVr,d.USGr,d.OWS,d.DWS,d.WS,d.WSper48,d.OBPM,d.DBPM,d.BPM,d.VORP,d.FG,d.FGA,d.FGr,d.ThreeP,d.ThreePA,d.ThreePr,d.TwoP,d.TwoPA,d.TwoPr,d.eFGr,d.FT,d.FTA,d.FTr,d.ORB,d.DRB,d.TRB,d.AST,d.STL,d.BLK,d.TOV,d.PF,d.PTS]\n",
    "    X_data.append(features1) \n",
    "    #Ignore\n",
    "    features2 = [d.Games,d.MP,d.PER,d.TSr,d.ASTr,d.USGr,d.OWS,d.WS,d.WSper48,d.OBPM,d.BPM,d.VORP,d.FT,d.ORB,d.PF]\n",
    "    X_data_reduced1.append(features2)\n",
    "    #The 6 features\n",
    "    features3 = [d.PER,d.TSr,d.USGr,d.WS,d.BPM,d.VORP]\n",
    "    X_data_reduced2.append(features3)"
   ]
  },
  {
   "cell_type": "code",
   "execution_count": 456,
   "metadata": {
    "collapsed": true
   },
   "outputs": [],
   "source": []
  },
  {
   "cell_type": "code",
   "execution_count": 370,
   "metadata": {
    "collapsed": false
   },
   "outputs": [
    {
     "data": {
      "text/plain": [
       "38"
      ]
     },
     "execution_count": 370,
     "metadata": {},
     "output_type": "execute_result"
    }
   ],
   "source": [
    "#From 1980-2017, 38 years so 38 mvps\n",
    "sum(y_data)"
   ]
  },
  {
   "cell_type": "code",
   "execution_count": 575,
   "metadata": {
    "collapsed": false
   },
   "outputs": [
    {
     "data": {
      "text/plain": [
       "42"
      ]
     },
     "execution_count": 575,
     "metadata": {},
     "output_type": "execute_result"
    }
   ],
   "source": [
    "len(X_data[0])"
   ]
  },
  {
   "cell_type": "code",
   "execution_count": 576,
   "metadata": {
    "collapsed": false
   },
   "outputs": [],
   "source": [
    "X_training = X_data[:len(X_data)*3//4]\n",
    "y_training = y_data[:len(X_data)*3//4]\n",
    "X_testing = X_data[len(X_data)*3//4:]\n",
    "y_testing = y_data[len(X_data)*3//4:]"
   ]
  },
  {
   "cell_type": "code",
   "execution_count": 513,
   "metadata": {
    "collapsed": true
   },
   "outputs": [],
   "source": [
    "from sklearn import preprocessing"
   ]
  },
  {
   "cell_type": "code",
   "execution_count": 514,
   "metadata": {
    "collapsed": true
   },
   "outputs": [],
   "source": [
    "#For normalization, use if needed\n",
    "std_scale = preprocessing.StandardScaler().fit(X_training)\n",
    "X_training_std = std_scale.transform(X_training)\n",
    "X_testing_std = std_scale.transform(X_testing)"
   ]
  },
  {
   "cell_type": "code",
   "execution_count": 373,
   "metadata": {
    "collapsed": true
   },
   "outputs": [],
   "source": [
    "X_training_reduced1 = X_data_reduced1[:len(X_data_reduced1)*3//4]\n",
    "X_testing_reduced1 = X_data_reduced1[len(X_data_reduced1)*3//4:]"
   ]
  },
  {
   "cell_type": "code",
   "execution_count": 374,
   "metadata": {
    "collapsed": false
   },
   "outputs": [
    {
     "data": {
      "text/plain": [
       "3895"
      ]
     },
     "execution_count": 374,
     "metadata": {},
     "output_type": "execute_result"
    }
   ],
   "source": [
    "len(X_testing)"
   ]
  },
  {
   "cell_type": "code",
   "execution_count": 146,
   "metadata": {
    "collapsed": true
   },
   "outputs": [],
   "source": [
    "from sklearn.ensemble import RandomForestClassifier\n",
    "from sklearn.ensemble import RandomForestRegressor"
   ]
  },
  {
   "cell_type": "code",
   "execution_count": 351,
   "metadata": {
    "collapsed": true
   },
   "outputs": [],
   "source": [
    "def evaluate(pred, labels):\n",
    "    TP=0\n",
    "    TN=0\n",
    "    FP=0\n",
    "    FN=0\n",
    "    PRECISION = 0\n",
    "    RECALL = 0\n",
    "    for (a,b) in zip(pred, labels):\n",
    "        if (a==True and b==True):\n",
    "            TP = TP+1\n",
    "        elif (a==True and b==False):\n",
    "            FP = FP+1\n",
    "        elif (a==False and b==True):\n",
    "            FN = FN+1\n",
    "        elif (a==False and b==False):\n",
    "            TN = TN+1\n",
    "    \n",
    "    TPR = TP/(TP+FN)\n",
    "    TNR = TN/(TN+FP)\n",
    "    BER = 1-(TPR+TNR)/2\n",
    "    if TP+FP == 0:\n",
    "        PRECISION = 0\n",
    "    else:\n",
    "        PRECISION = TP / (TP+FP)\n",
    "    if TP+FN == 0:\n",
    "        RECALL = 0\n",
    "    else:\n",
    "        RECALL = TP / (TP+FN)\n",
    "    print(\"Statistics for our training model: \")\n",
    "    print(\"\\nTrue positives: \" + str(TP))\n",
    "    print(\"True negatives: \" + str(TN))\n",
    "    print(\"False positives: \" + str(FP))\n",
    "    print(\"False negatives: \" + str(FN))\n",
    "    print(\"\\nAccuracy: \" + str((TP + TN)/len(pred)))\n",
    "    print(\"BER is \" + str(BER))\n",
    "    print(\"Precision: \" + str(PRECISION))\n",
    "    print(\"Recall: \" + str(RECALL))\n",
    "    return PRECISION,RECALL"
   ]
  },
  {
   "cell_type": "code",
   "execution_count": 383,
   "metadata": {
    "collapsed": true
   },
   "outputs": [],
   "source": [
    "#Use for graph, only return precision and recall without printing out results\n",
    "def evaluate_noprint(pred, labels):\n",
    "    TP=0\n",
    "    TN=0\n",
    "    FP=0\n",
    "    FN=0\n",
    "    PRECISION = 0\n",
    "    RECALL = 0\n",
    "    for (a,b) in zip(pred, labels):\n",
    "        if (a==True and b==True):\n",
    "            TP = TP+1\n",
    "        elif (a==True and b==False):\n",
    "            FP = FP+1\n",
    "        elif (a==False and b==True):\n",
    "            FN = FN+1\n",
    "        elif (a==False and b==False):\n",
    "            TN = TN+1\n",
    "    \n",
    "    TPR = TP/(TP+FN)\n",
    "    TNR = TN/(TN+FP)\n",
    "    BER = 1-(TPR+TNR)/2\n",
    "    if TP+FP == 0:\n",
    "        PRECISION = 0\n",
    "    else:\n",
    "        PRECISION = TP / (TP+FP)\n",
    "    if TP+FN == 0:\n",
    "        RECALL = 0\n",
    "    else:\n",
    "        RECALL = TP / (TP+FN)\n",
    "\n",
    "    return PRECISION,RECALL"
   ]
  },
  {
   "cell_type": "code",
   "execution_count": 450,
   "metadata": {
    "collapsed": false
   },
   "outputs": [
    {
     "name": "stdout",
     "output_type": "stream",
     "text": [
      "Statistics for our training model: \n",
      "\n",
      "True positives: 8\n",
      "True negatives: 3862\n",
      "False positives: 25\n",
      "False negatives: 0\n",
      "\n",
      "Accuracy: 0.993581514762516\n",
      "BER is 0.003215847697453089\n",
      "Precision: 0.24242424242424243\n",
      "Recall: 1.0\n"
     ]
    }
   ],
   "source": [
    "#Use for classification\n",
    "clf_RFC = RandomForestClassifier(n_estimators=100,max_depth=3, random_state=2,class_weight = {0:1,1:70})\n",
    "clf_RFC.fit(X_training, y_training)\n",
    "pred_RFC = clf_RFC.predict(X_testing)\n",
    "evaluate(pred_RFC, y_testing)"
   ]
  },
  {
   "cell_type": "code",
   "execution_count": 361,
   "metadata": {
    "collapsed": false
   },
   "outputs": [
    {
     "data": {
      "text/plain": [
       "3836"
      ]
     },
     "execution_count": 361,
     "metadata": {},
     "output_type": "execute_result"
    }
   ],
   "source": [
    "len(X_testing_reduced1)"
   ]
  },
  {
   "cell_type": "code",
   "execution_count": 454,
   "metadata": {
    "collapsed": false
   },
   "outputs": [
    {
     "name": "stdout",
     "output_type": "stream",
     "text": [
      "Statistics for our training model: \n",
      "\n",
      "True positives: 8\n",
      "True negatives: 3851\n",
      "False positives: 36\n",
      "False negatives: 0\n",
      "\n",
      "Accuracy: 0.9907573812580232\n",
      "BER is 0.004630820684332404\n",
      "Precision: 0.18181818181818182\n",
      "Recall: 1.0\n"
     ]
    }
   ],
   "source": [
    "clf_RFC_reduced1 = RandomForestClassifier(n_estimators=100,max_depth=3, random_state=0,class_weight = {0:1,1:70})\n",
    "clf_RFC_reduced1.fit(X_training_reduced1, y_training)\n",
    "pred_RFC_reduced1 = clf_RFC_reduced1.predict(X_testing_reduced1)\n",
    "evaluate(pred_RFC_reduced1, y_testing)"
   ]
  },
  {
   "cell_type": "code",
   "execution_count": 629,
   "metadata": {
    "collapsed": false
   },
   "outputs": [
    {
     "data": {
      "image/png": "[encoded data removed]",
      "text/plain": [
       "<matplotlib.figure.Figure at 0x1290dfda0>"
      ]
     },
     "metadata": {},
     "output_type": "display_data"
    }
   ],
   "source": [
    "for weight in range(1,70):\n",
    "    clf_RFC = RandomForestClassifier(n_estimators=100,max_depth=3, random_state=0,class_weight = {0:1,1:weight})\n",
    "    clf_RFC.fit(X_training, y_training)\n",
    "    pred_RFC = clf_RFC.predict(X_testing)\n",
    "    p,r = evaluate_noprint(pred_RFC, y_testing)\n",
    "    plt.scatter(r, p, color='r', marker=\".\")\n",
    "\n",
    "\n",
    "plt.title(\"PR Curve - class weight\")\n",
    "plt.xlabel(\"Recall\")\n",
    "plt.ylabel(\"Precision\")\n",
    "#red_patch = mpatches.Patch(color='r', label='Precision')\n",
    "#plt.legend(handles=[red_patch,blue_patch],bbox_to_anchor=(1.05, 1), loc=2,borderaxespad=0.)\n",
    "    \n",
    "plt.show()"
   ]
  },
  {
   "cell_type": "code",
   "execution_count": 390,
   "metadata": {
    "collapsed": true
   },
   "outputs": [],
   "source": [
    "import matplotlib.pyplot as plt\n",
    "import matplotlib.patches as mpatches"
   ]
  },
  {
   "cell_type": "code",
   "execution_count": 395,
   "metadata": {
    "collapsed": false
   },
   "outputs": [
    {
     "data": {
      "image/png": "[encoded data removed]",
      "text/plain": [
       "<matplotlib.figure.Figure at 0x1177dce80>"
      ]
     },
     "metadata": {},
     "output_type": "display_data"
    }
   ],
   "source": [
    "for weight in [1,50,100,150,200,250,300,350,400,450,500]:\n",
    "    clf_RFC_reduced1 = RandomForestClassifier(n_estimators=100,max_depth=3, random_state=0,class_weight = {0:1,1:weight})\n",
    "    clf_RFC_reduced1.fit(X_training_reduced1, y_training)\n",
    "    pred_RFC_reduced1 = clf_RFC_reduced1.predict(X_testing_reduced1)\n",
    "    p,r = evaluate_noprint(pred_RFC_reduced1, y_testing)\n",
    "    \n",
    "    plt.scatter(weight, p, color='r', marker=\".\")\n",
    "    plt.scatter(weight, r, color='b', marker=\".\", alpha=.35)\n",
    "\n",
    "\n",
    "plt.title(\"Precision & Recall - class weight\")\n",
    "plt.xlabel(\"class weight\")\n",
    "red_patch = mpatches.Patch(color='r', label='Precision')\n",
    "plt.legend(handles=[red_patch,blue_patch],bbox_to_anchor=(1.05, 1), loc=2,borderaxespad=0.)\n",
    "    \n",
    "plt.show()"
   ]
  },
  {
   "cell_type": "code",
   "execution_count": 480,
   "metadata": {
    "collapsed": false
   },
   "outputs": [
    {
     "name": "stdout",
     "output_type": "stream",
     "text": [
      "Statistics for our training model: \n",
      "\n",
      "True positives: 5\n",
      "True negatives: 3883\n",
      "False positives: 4\n",
      "False negatives: 3\n",
      "\n",
      "Accuracy: 0.9982028241335045\n",
      "BER is 0.18801453563159254\n",
      "Precision: 0.5555555555555556\n",
      "Recall: 0.625\n"
     ]
    }
   ],
   "source": [
    "clf_LR = LogisticRegression(C=0.01)\n",
    "clf_LR.fit(X_training, y_training)\n",
    "\n",
    "pred_RFC_LR = clf_LR.predict(X_testing)\n",
    "evaluate(pred_RFC_LR, y_testing)"
   ]
  },
  {
   "cell_type": "code",
   "execution_count": 597,
   "metadata": {
    "collapsed": false
   },
   "outputs": [
    {
     "data": {
      "text/plain": [
       "LogisticRegression(C=0.01, class_weight=None, dual=False, fit_intercept=True,\n",
       "          intercept_scaling=1, max_iter=100, multi_class='ovr', n_jobs=1,\n",
       "          penalty='l2', random_state=None, solver='liblinear', tol=0.0001,\n",
       "          verbose=0, warm_start=False)"
      ]
     },
     "execution_count": 597,
     "metadata": {},
     "output_type": "execute_result"
    }
   ],
   "source": [
    "clf_LR = LogisticRegression(C=0.01)\n",
    "clf_LR.fit(X_training, y_training)"
   ]
  },
  {
   "cell_type": "code",
   "execution_count": 482,
   "metadata": {
    "collapsed": false
   },
   "outputs": [
    {
     "name": "stdout",
     "output_type": "stream",
     "text": [
      "0.5555555555555556 0.625\n",
      "0.6 0.75\n",
      "0.5833333333333334 0.875\n",
      "0.4375 0.875\n",
      "0.47058823529411764 1.0\n",
      "0.4 1.0\n",
      "0.4 1.0\n",
      "0.4 1.0\n"
     ]
    },
    {
     "data": {
      "image/png": "[encoded data removed]",
      "text/plain": [
       "<matplotlib.figure.Figure at 0x1293a1358>"
      ]
     },
     "metadata": {},
     "output_type": "display_data"
    }
   ],
   "source": [
    "for c in [0.01,0.05,0.1,0.5,1,10,100,1000]:\n",
    "    clf_LR = LogisticRegression(C=c)\n",
    "    clf_LR.fit(X_training, y_training)\n",
    "    pred_LR = clf_LR.predict(X_testing)\n",
    "    p,r = evaluate_noprint(pred_LR, y_testing)\n",
    "    print (str(p) + ' ' + str(r))\n",
    "    plt.scatter(r, p, color='r', marker=\".\")\n",
    "\n",
    "\n",
    "plt.title(\"PR Curve - C\")\n",
    "plt.xlabel(\"Recall\")\n",
    "plt.ylabel(\"Precision\")\n",
    "#red_patch = mpatches.Patch(color='r', label='Precision')\n",
    "#plt.legend(handles=[red_patch,blue_patch],bbox_to_anchor=(1.05, 1), loc=2,borderaxespad=0.)\n",
    "    \n",
    "plt.show()"
   ]
  },
  {
   "cell_type": "code",
   "execution_count": null,
   "metadata": {
    "collapsed": true
   },
   "outputs": [],
   "source": [
    "for weight in range(1,70):\n",
    "    clf_RFC = RandomForestClassifier(n_estimators=100,max_depth=3, random_state=0,class_weight = {0:1,1:weight})\n",
    "    clf_RFC.fit(X_training, y_training)\n",
    "    pred_RFC = clf_RFC.predict(X_testing)\n",
    "    p,r = evaluate_noprint(pred_RFC, y_testing)\n",
    "    print (str(p) + ' ' + str(r))\n",
    "    plt.scatter(r, p, color='r', marker=\".\")\n",
    "\n",
    "\n",
    "plt.title(\"PR Curve - class weight\")\n",
    "plt.xlabel(\"Recall\")\n",
    "plt.ylabel(\"Precision\")\n",
    "#red_patch = mpatches.Patch(color='r', label='Precision')\n",
    "#plt.legend(handles=[red_patch,blue_patch],bbox_to_anchor=(1.05, 1), loc=2,borderaxespad=0.)\n",
    "    \n",
    "plt.show()"
   ]
  },
  {
   "cell_type": "code",
   "execution_count": 249,
   "metadata": {
    "collapsed": false
   },
   "outputs": [],
   "source": [
    "from sklearn import svm"
   ]
  },
  {
   "cell_type": "code",
   "execution_count": 435,
   "metadata": {
    "collapsed": false
   },
   "outputs": [
    {
     "name": "stdout",
     "output_type": "stream",
     "text": [
      "Statistics for our training model: \n",
      "\n",
      "True positives: 0\n",
      "True negatives: 3887\n",
      "False positives: 0\n",
      "False negatives: 8\n",
      "\n",
      "Accuracy: 0.9979460847240051\n",
      "BER is 0.5\n",
      "Precision: 0\n",
      "Recall: 0.0\n"
     ]
    }
   ],
   "source": [
    "clf_svm1 = svm.SVC(C=1000,decision_function_shape='ovo',class_weight = {0:1,1:1000},random_state=2)\n",
    "clf_svm1.fit(X_training, y_training)\n",
    "pred_svm1 = clf_svm1.predict(X_testing)\n",
    "evaluate(pred_svm1, y_testing)"
   ]
  },
  {
   "cell_type": "code",
   "execution_count": null,
   "metadata": {
    "collapsed": false
   },
   "outputs": [],
   "source": []
  },
  {
   "cell_type": "code",
   "execution_count": 430,
   "metadata": {
    "collapsed": false
   },
   "outputs": [
    {
     "name": "stdout",
     "output_type": "stream",
     "text": [
      "Statistics for our training model: \n",
      "\n",
      "True positives: 0\n",
      "True negatives: 3886\n",
      "False positives: 1\n",
      "False negatives: 8\n",
      "\n",
      "Accuracy: 0.9976893453145058\n",
      "BER is 0.5001286339078981\n",
      "Precision: 0.0\n",
      "Recall: 0.0\n"
     ]
    }
   ],
   "source": [
    "clf_svm2 = svm.LinearSVC(class_weight = {0:1,1:1000000}, random_state = 0)\n",
    "clf_svm2.fit(X_training, y_training)\n",
    "pred_svm2 = clf_svm2.predict(X_testing)\n",
    "evaluate(pred_svm2, y_testing)"
   ]
  },
  {
   "cell_type": "code",
   "execution_count": null,
   "metadata": {
    "collapsed": true
   },
   "outputs": [],
   "source": [
    "for weight in range(1,1000000,100):\n",
    "    clf_svm2 = svm.LinearSVC(decision_function_shape='ovo',class_weight = {0:1,1:weight})\n",
    "    clf_svm2.fit(X_training, y_training)\n",
    "    pred_svm2 = clf_svm2.predict(X_testing)\n",
    "    p,r = evaluate_noprint(pred_svm2, y_testing)\n",
    "    \n",
    "    plt.scatter(weight, p, color='r', marker=\".\")\n",
    "    plt.scatter(weight, r, color='b', marker=\".\", alpha=.35)\n",
    "\n",
    "\n",
    "plt.title(\"PR Curve - class weight - LinearSVC\")\n",
    "plt.xlabel(\"class weight\")\n",
    "red_patch = mpatches.Patch(color='r', label='Precision')\n",
    "plt.legend(handles=[red_patch,blue_patch],bbox_to_anchor=(1.05, 1), loc=2,borderaxespad=0.)\n",
    "    \n",
    "plt.show()"
   ]
  },
  {
   "cell_type": "code",
   "execution_count": 405,
   "metadata": {
    "collapsed": true
   },
   "outputs": [],
   "source": [
    "from sklearn.svm import SVR"
   ]
  },
  {
   "cell_type": "code",
   "execution_count": 412,
   "metadata": {
    "collapsed": true
   },
   "outputs": [],
   "source": [
    "from sklearn.linear_model import LogisticRegression"
   ]
  },
  {
   "cell_type": "code",
   "execution_count": null,
   "metadata": {
    "collapsed": true
   },
   "outputs": [],
   "source": []
  },
  {
   "cell_type": "code",
   "execution_count": null,
   "metadata": {
    "collapsed": true
   },
   "outputs": [],
   "source": [
    "votingDict = defaultdict(lambda:defaultdict(float))\n",
    "for row in voting_data.itertuples():\n",
    "    votingDict[row.Year][row.Player] = row.Share"
   ]
  },
  {
   "cell_type": "code",
   "execution_count": 631,
   "metadata": {
    "collapsed": true
   },
   "outputs": [],
   "source": [
    "#Construct training data for top1 prediction, use data from before 2010\n",
    "X_training_top1 = []\n",
    "y_training_top1 = []\n",
    "y_training_vote = [] #Use vote share as y labels\n",
    "X_training_vote_6 = []\n",
    "for d in data_refined:\n",
    "    year = d.Year\n",
    "    name = d.Name\n",
    "    if name[-1] == '*':\n",
    "        name = name[0:-1]\n",
    "    if year < 2010:\n",
    "        if mvps[int(d.Year)] == name:\n",
    "            y_training_top1.append(1)\n",
    "        else:\n",
    "            y_training_top1.append(0)\n",
    "        y_training_vote.append(votingDict[year][name])\n",
    "    \n",
    "        #NOTE: change features here\n",
    "        features = [d.PER,d.TSr,d.ThreePAr,d.FTRate,d.ORBr,d.DRBr,d.TRBr,d.ASTr,d.STLr,d.BLKr,d.TOVr,d.USGr,d.OWS,d.DWS,d.WS,d.WSper48,d.OBPM,d.DBPM,d.BPM,d.VORP]\n",
    "        X_training_top1.append(features)\n",
    "        \n",
    "        features2 = [d.PER,d.TSr,d.USGr,d.WS,d.BPM,d.VORP]\n",
    "        X_training_vote_6.append(features2)"
   ]
  },
  {
   "cell_type": "code",
   "execution_count": 619,
   "metadata": {
    "collapsed": true
   },
   "outputs": [],
   "source": [
    "#Normalization, use if needed\n",
    "std_scale = preprocessing.StandardScaler().fit(X_training_top1)\n",
    "X_training_top1_std = std_scale.transform(X_training_top1)"
   ]
  },
  {
   "cell_type": "code",
   "execution_count": 620,
   "metadata": {
    "collapsed": false
   },
   "outputs": [
    {
     "data": {
      "text/plain": [
       "RandomForestRegressor(bootstrap=True, criterion='mse', max_depth=3,\n",
       "           max_features='auto', max_leaf_nodes=None, min_samples_leaf=1,\n",
       "           min_samples_split=2, min_weight_fraction_leaf=0.0,\n",
       "           n_estimators=10, n_jobs=1, oob_score=False, random_state=0,\n",
       "           verbose=0, warm_start=False)"
      ]
     },
     "execution_count": 620,
     "metadata": {},
     "output_type": "execute_result"
    }
   ],
   "source": [
    "#Random forest regressor, for top1 prediction\n",
    "clf_RFR = RandomForestRegressor(n_estimators = 10,max_depth=3, random_state=0)\n",
    "clf_RFR.fit(X_training_top1_std, y_training_top1)"
   ]
  },
  {
   "cell_type": "code",
   "execution_count": 605,
   "metadata": {
    "collapsed": false
   },
   "outputs": [
    {
     "data": {
      "text/plain": [
       "RandomForestRegressor(bootstrap=True, criterion='mse', max_depth=2,\n",
       "           max_features='auto', max_leaf_nodes=None, min_samples_leaf=1,\n",
       "           min_samples_split=2, min_weight_fraction_leaf=0.0,\n",
       "           n_estimators=10, n_jobs=1, oob_score=False, random_state=0,\n",
       "           verbose=0, warm_start=False)"
      ]
     },
     "execution_count": 605,
     "metadata": {},
     "output_type": "execute_result"
    }
   ],
   "source": [
    "#Random forest regressor, for top1 prediction, vote as labels\n",
    "clf_RFR_vote = RandomForestRegressor(n_estimators = 10,max_depth=2, random_state=0)\n",
    "clf_RFR_vote.fit(X_training_top1, y_training_vote)"
   ]
  },
  {
   "cell_type": "code",
   "execution_count": 570,
   "metadata": {
    "collapsed": false
   },
   "outputs": [
    {
     "data": {
      "text/plain": [
       "RandomForestRegressor(bootstrap=True, criterion='mse', max_depth=2,\n",
       "           max_features='auto', max_leaf_nodes=None, min_samples_leaf=1,\n",
       "           min_samples_split=2, min_weight_fraction_leaf=0.0,\n",
       "           n_estimators=100, n_jobs=1, oob_score=False, random_state=0,\n",
       "           verbose=0, warm_start=False)"
      ]
     },
     "execution_count": 570,
     "metadata": {},
     "output_type": "execute_result"
    }
   ],
   "source": [
    "#Random forest regressor, for top1 prediction\n",
    "clf_RFR_vote_6 = RandomForestRegressor(n_estimators = 100,max_depth=2, random_state=0)\n",
    "clf_RFR_vote_6.fit(X_training_vote_6, y_training_vote)"
   ]
  },
  {
   "cell_type": "code",
   "execution_count": 579,
   "metadata": {
    "collapsed": false
   },
   "outputs": [
    {
     "data": {
      "text/plain": [
       "array([ 0.        ,  0.        ,  0.        ,  0.01605433,  0.        ,\n",
       "        0.        ,  0.02358569,  0.01312634,  0.        ,  0.01323872,\n",
       "        0.04551988,  0.01305729,  0.01347416,  0.02920457,  0.43628967,\n",
       "        0.02478699,  0.        ,  0.00659142,  0.01673792,  0.03738397,\n",
       "        0.        ,  0.02432199,  0.        ,  0.        ,  0.        ,\n",
       "        0.05997888,  0.        ,  0.01445336,  0.        ,  0.01479575,\n",
       "        0.01956489,  0.        ,  0.0723487 ,  0.0069289 ,  0.02283523,\n",
       "        0.03324094,  0.01168716,  0.01789982,  0.00412356,  0.        ,\n",
       "        0.00876986,  0.        ])"
      ]
     },
     "execution_count": 579,
     "metadata": {},
     "output_type": "execute_result"
    }
   ],
   "source": [
    "clf_RFR.feature_importances_"
   ]
  },
  {
   "cell_type": "code",
   "execution_count": 495,
   "metadata": {
    "collapsed": false
   },
   "outputs": [
    {
     "data": {
      "text/plain": [
       "30000"
      ]
     },
     "execution_count": 495,
     "metadata": {},
     "output_type": "execute_result"
    }
   ],
   "source": [
    "sum(y_training_top1)"
   ]
  },
  {
   "cell_type": "code",
   "execution_count": 524,
   "metadata": {
    "collapsed": true
   },
   "outputs": [],
   "source": [
    "from collections import defaultdict"
   ]
  },
  {
   "cell_type": "code",
   "execution_count": 571,
   "metadata": {
    "collapsed": false
   },
   "outputs": [
    {
     "name": "stdout",
     "output_type": "stream",
     "text": [
      "2010 mvp was LeBron James\n",
      "    Top 5 in our predictions are below: \n",
      "    LeBron James has score [ 0.67696037]\n",
      "    Kevin Durant has score [ 0.47684729]\n",
      "    Dwyane Wade has score [ 0.15124608]\n",
      "    Dwight Howard has score [ 0.14532172]\n",
      "    Dirk Nowitzki has score [ 0.10491665]\n",
      "predict CORRECT for year 2010\n",
      "\n",
      "2011 mvp was Derrick Rose\n",
      "    Top 5 in our predictions are below: \n",
      "    LeBron James has score [ 0.50091604]\n",
      "    Pau Gasol has score [ 0.268787]\n",
      "    Dwight Howard has score [ 0.25017855]\n",
      "    Chris Paul has score [ 0.18668957]\n",
      "    Derrick Rose has score [ 0.14168401]\n",
      "predict INCORRECT for year 2011\n",
      "\n",
      "2012 mvp was LeBron James\n",
      "    Top 5 in our predictions are below: \n",
      "    LeBron James has score [ 0.31489782]\n",
      "    Chris Paul has score [ 0.13438565]\n",
      "    Kevin Durant has score [ 0.10277445]\n",
      "    Manu Ginobili has score [ 0.02195681]\n",
      "    Kyrylo Fesenko has score [ 0.02195681]\n",
      "predict CORRECT for year 2012\n",
      "\n",
      "2013 mvp was LeBron James\n",
      "    Top 5 in our predictions are below: \n",
      "    LeBron James has score [ 0.65310419]\n",
      "    Kevin Durant has score [ 0.62166922]\n",
      "    Chris Paul has score [ 0.22453332]\n",
      "    James Harden has score [ 0.13202799]\n",
      "    Russell Westbrook has score [ 0.07831269]\n",
      "predict CORRECT for year 2013\n",
      "\n",
      "2014 mvp was Kevin Durant\n",
      "    Top 5 in our predictions are below: \n",
      "    Kevin Durant has score [ 0.6537872]\n",
      "    LeBron James has score [ 0.5453792]\n",
      "    Kevin Love has score [ 0.29403061]\n",
      "    Stephen Curry has score [ 0.14918583]\n",
      "    James Harden has score [ 0.13326448]\n",
      "predict CORRECT for year 2014\n",
      "\n",
      "2015 mvp was Stephen Curry\n",
      "    Top 5 in our predictions are below: \n",
      "    James Harden has score [ 0.65442743]\n",
      "    Stephen Curry has score [ 0.52889226]\n",
      "    Chris Paul has score [ 0.49360474]\n",
      "    Anthony Davis has score [ 0.24397669]\n",
      "    DeAndre Jordan has score [ 0.11219694]\n",
      "predict INCORRECT for year 2015\n",
      "\n",
      "2016 mvp was Stephen Curry\n",
      "    Top 5 in our predictions are below: \n",
      "    Stephen Curry has score [ 0.65310419]\n",
      "    Kevin Durant has score [ 0.28103892]\n",
      "    Russell Westbrook has score [ 0.27960799]\n",
      "    LeBron James has score [ 0.2060993]\n",
      "    Kawhi Leonard has score [ 0.18898806]\n",
      "predict CORRECT for year 2016\n",
      "\n",
      "2017 mvp was Russell Westbrook\n",
      "    Top 5 in our predictions are below: \n",
      "    James Harden has score [ 0.41925154]\n",
      "    Jimmy Butler has score [ 0.22824488]\n",
      "    Rudy Gobert has score [ 0.20766525]\n",
      "    Kawhi Leonard has score [ 0.18898806]\n",
      "    Russell Westbrook has score [ 0.16234412]\n",
      "predict INCORRECT for year 2017\n",
      "\n",
      "Total correct are 5 out of 8\n"
     ]
    }
   ],
   "source": [
    "#Use 6 features, vote as y labels\n",
    "#Construct testing data for top1 prediction\n",
    "X_testing_vote_6 = {}\n",
    "for i in range(2010,2018):\n",
    "    X1 = []\n",
    "    for d in data_refined:\n",
    "        year = d.Year\n",
    "        if year == i:\n",
    "            tmp2 = [d.Name,d.PER,d.TSr,d.USGr,d.WS,d.BPM,d.VORP]\n",
    "            X1.append(tmp2)\n",
    "    X_testing_vote_6[i] = X1\n",
    "    \n",
    "correct = 0\n",
    "for year in range(2010,2018):\n",
    "    #X is all players' data of that year. Make prediction on each then sort in descending order\n",
    "    X = X_testing_vote_6[year]\n",
    "    print (str(year) + ' mvp was ' + str(mvps[year]))\n",
    "    for idx in range(len(X)):\n",
    "        pred = clf_RFR_vote_6.predict(X[idx][1:])\n",
    "        X[idx] = [pred] + X[idx] \n",
    "    X.sort(reverse = True)\n",
    "    \n",
    "    #in case of a tie, get all the top ranking players\n",
    "    tops = [X[0][1]]\n",
    "    for idx in range(1,len(X)):\n",
    "        if X[idx][0] == X[0][0]:\n",
    "            tops.append(X[idx][1])\n",
    "        else:\n",
    "            break\n",
    "            \n",
    "    print ('    Top 5 in our predictions are below: ')\n",
    "    for i in range(5):\n",
    "        print ('    ' + str(X[i][1]) + ' has score ' + str(X[i][0]))\n",
    "    if mvps[year] in tops:\n",
    "        correct += 1\n",
    "        print ('predict CORRECT for year ' + str(year))\n",
    "    else:\n",
    "        print ('predict INCORRECT for year ' + str(year))\n",
    "    print ()\n",
    "print ('Total correct are ' + str(correct) + ' out of 8')"
   ]
  },
  {
   "cell_type": "code",
   "execution_count": 632,
   "metadata": {
    "collapsed": false
   },
   "outputs": [
    {
     "name": "stdout",
     "output_type": "stream",
     "text": [
      "2010 mvp was LeBron James\n"
     ]
    },
    {
     "ename": "ValueError",
     "evalue": "Number of features of the model must  match the input. Model n_features is 20 and  input n_features is 44 ",
     "output_type": "error",
     "traceback": [
      "\u001b[0;31m---------------------------------------------------------------------------\u001b[0m",
      "\u001b[0;31mValueError\u001b[0m                                Traceback (most recent call last)",
      "\u001b[0;32m<ipython-input-632-cb70ca1f471b>\u001b[0m in \u001b[0;36m<module>\u001b[0;34m()\u001b[0m\n\u001b[1;32m     19\u001b[0m     \u001b[0mprint\u001b[0m \u001b[0;34m(\u001b[0m\u001b[0mstr\u001b[0m\u001b[0;34m(\u001b[0m\u001b[0myear\u001b[0m\u001b[0;34m)\u001b[0m \u001b[0;34m+\u001b[0m \u001b[0;34m' mvp was '\u001b[0m \u001b[0;34m+\u001b[0m \u001b[0mstr\u001b[0m\u001b[0;34m(\u001b[0m\u001b[0mmvps\u001b[0m\u001b[0;34m[\u001b[0m\u001b[0myear\u001b[0m\u001b[0;34m]\u001b[0m\u001b[0;34m)\u001b[0m\u001b[0;34m)\u001b[0m\u001b[0;34m\u001b[0m\u001b[0m\n\u001b[1;32m     20\u001b[0m     \u001b[0;32mfor\u001b[0m \u001b[0midx\u001b[0m \u001b[0;32min\u001b[0m \u001b[0mrange\u001b[0m\u001b[0;34m(\u001b[0m\u001b[0mlen\u001b[0m\u001b[0;34m(\u001b[0m\u001b[0mX\u001b[0m\u001b[0;34m)\u001b[0m\u001b[0;34m)\u001b[0m\u001b[0;34m:\u001b[0m\u001b[0;34m\u001b[0m\u001b[0m\n\u001b[0;32m---> 21\u001b[0;31m         \u001b[0mpred\u001b[0m \u001b[0;34m=\u001b[0m \u001b[0mclf_RFR\u001b[0m\u001b[0;34m.\u001b[0m\u001b[0mpredict\u001b[0m\u001b[0;34m(\u001b[0m\u001b[0mX\u001b[0m\u001b[0;34m[\u001b[0m\u001b[0midx\u001b[0m\u001b[0;34m]\u001b[0m\u001b[0;34m[\u001b[0m\u001b[0;36m1\u001b[0m\u001b[0;34m:\u001b[0m\u001b[0;34m]\u001b[0m\u001b[0;34m)\u001b[0m\u001b[0;34m\u001b[0m\u001b[0m\n\u001b[0m\u001b[1;32m     22\u001b[0m         \u001b[0mX\u001b[0m\u001b[0;34m[\u001b[0m\u001b[0midx\u001b[0m\u001b[0;34m]\u001b[0m \u001b[0;34m=\u001b[0m \u001b[0;34m[\u001b[0m\u001b[0mpred\u001b[0m\u001b[0;34m]\u001b[0m \u001b[0;34m+\u001b[0m \u001b[0mX\u001b[0m\u001b[0;34m[\u001b[0m\u001b[0midx\u001b[0m\u001b[0;34m]\u001b[0m\u001b[0;34m\u001b[0m\u001b[0m\n\u001b[1;32m     23\u001b[0m     \u001b[0mX\u001b[0m\u001b[0;34m.\u001b[0m\u001b[0msort\u001b[0m\u001b[0;34m(\u001b[0m\u001b[0mreverse\u001b[0m \u001b[0;34m=\u001b[0m \u001b[0;32mTrue\u001b[0m\u001b[0;34m)\u001b[0m\u001b[0;34m\u001b[0m\u001b[0m\n",
      "\u001b[0;32m~/anaconda/lib/python3.5/site-packages/sklearn/ensemble/forest.py\u001b[0m in \u001b[0;36mpredict\u001b[0;34m(self, X)\u001b[0m\n\u001b[1;32m    647\u001b[0m         \"\"\"\n\u001b[1;32m    648\u001b[0m         \u001b[0;31m# Check data\u001b[0m\u001b[0;34m\u001b[0m\u001b[0;34m\u001b[0m\u001b[0m\n\u001b[0;32m--> 649\u001b[0;31m         \u001b[0mX\u001b[0m \u001b[0;34m=\u001b[0m \u001b[0mself\u001b[0m\u001b[0;34m.\u001b[0m\u001b[0m_validate_X_predict\u001b[0m\u001b[0;34m(\u001b[0m\u001b[0mX\u001b[0m\u001b[0;34m)\u001b[0m\u001b[0;34m\u001b[0m\u001b[0m\n\u001b[0m\u001b[1;32m    650\u001b[0m \u001b[0;34m\u001b[0m\u001b[0m\n\u001b[1;32m    651\u001b[0m         \u001b[0;31m# Assign chunk of trees to jobs\u001b[0m\u001b[0;34m\u001b[0m\u001b[0;34m\u001b[0m\u001b[0m\n",
      "\u001b[0;32m~/anaconda/lib/python3.5/site-packages/sklearn/ensemble/forest.py\u001b[0m in \u001b[0;36m_validate_X_predict\u001b[0;34m(self, X)\u001b[0m\n\u001b[1;32m    317\u001b[0m                                  \"call `fit` before exploiting the model.\")\n\u001b[1;32m    318\u001b[0m \u001b[0;34m\u001b[0m\u001b[0m\n\u001b[0;32m--> 319\u001b[0;31m         \u001b[0;32mreturn\u001b[0m \u001b[0mself\u001b[0m\u001b[0;34m.\u001b[0m\u001b[0mestimators_\u001b[0m\u001b[0;34m[\u001b[0m\u001b[0;36m0\u001b[0m\u001b[0;34m]\u001b[0m\u001b[0;34m.\u001b[0m\u001b[0m_validate_X_predict\u001b[0m\u001b[0;34m(\u001b[0m\u001b[0mX\u001b[0m\u001b[0;34m,\u001b[0m \u001b[0mcheck_input\u001b[0m\u001b[0;34m=\u001b[0m\u001b[0;32mTrue\u001b[0m\u001b[0;34m)\u001b[0m\u001b[0;34m\u001b[0m\u001b[0m\n\u001b[0m\u001b[1;32m    320\u001b[0m \u001b[0;34m\u001b[0m\u001b[0m\n\u001b[1;32m    321\u001b[0m     \u001b[0;34m@\u001b[0m\u001b[0mproperty\u001b[0m\u001b[0;34m\u001b[0m\u001b[0m\n",
      "\u001b[0;32m~/anaconda/lib/python3.5/site-packages/sklearn/tree/tree.py\u001b[0m in \u001b[0;36m_validate_X_predict\u001b[0;34m(self, X, check_input)\u001b[0m\n\u001b[1;32m    374\u001b[0m                              \u001b[0;34m\" match the input. Model n_features is %s and \"\u001b[0m\u001b[0;34m\u001b[0m\u001b[0m\n\u001b[1;32m    375\u001b[0m                              \u001b[0;34m\" input n_features is %s \"\u001b[0m\u001b[0;34m\u001b[0m\u001b[0m\n\u001b[0;32m--> 376\u001b[0;31m                              % (self.n_features_, n_features))\n\u001b[0m\u001b[1;32m    377\u001b[0m \u001b[0;34m\u001b[0m\u001b[0m\n\u001b[1;32m    378\u001b[0m         \u001b[0;32mreturn\u001b[0m \u001b[0mX\u001b[0m\u001b[0;34m\u001b[0m\u001b[0m\n",
      "\u001b[0;31mValueError\u001b[0m: Number of features of the model must  match the input. Model n_features is 20 and  input n_features is 44 "
     ]
    }
   ],
   "source": [
    "#Construct testing data for top1 prediction\n",
    "X_testing_top1 = {}\n",
    "for i in range(2010,2018):\n",
    "    X = []\n",
    "    X1 = []\n",
    "    for d in data_refined:\n",
    "        year = d.Year\n",
    "        if year == i:\n",
    "            tmp = [d.Name,d.Games,d.MP,d.PER,d.TSr,d.ThreePAr,d.FTRate,d.ORBr,d.DRBr,d.TRBr,d.ASTr,d.STLr,d.BLKr,d.TOVr,d.USGr,d.OWS,d.DWS,d.WS,d.WSper48,d.OBPM,d.DBPM,d.BPM,d.VORP,d.FG,d.FGA,d.FGr,d.ThreeP,d.ThreePA,d.ThreePr,d.TwoP,d.TwoPA,d.TwoPr,d.eFGr,d.FT,d.FTA,d.FTr,d.ORB,d.DRB,d.TRB,d.AST,d.STL,d.BLK,d.TOV,d.PF,d.PTS]\n",
    "            X.append(tmp)\n",
    "            tmp2 = [d.PER,d.TSr,d.USGr,d.WS,d.BPM,d.VORP]\n",
    "            X1.append(tmp2)\n",
    "    X_testing_top1[i] = X\n",
    "    \n",
    "correct = 0\n",
    "for year in range(2010,2018):\n",
    "    #X is all players' data of that year. Make prediction on each then sort in descending order\n",
    "    X = X_testing_top1[year]\n",
    "    print (str(year) + ' mvp was ' + str(mvps[year]))\n",
    "    for idx in range(len(X)):\n",
    "        pred = clf_RFR.predict(X[idx][1:])\n",
    "        X[idx] = [pred] + X[idx] \n",
    "    X.sort(reverse = True)\n",
    "    \n",
    "    #in case of a tie, get all the top ranking players\n",
    "    tops = [X[0][1]]\n",
    "    for idx in range(1,len(X)):\n",
    "        if X[idx][0] == X[0][0]:\n",
    "            tops.append(X[idx][1])\n",
    "        else:\n",
    "            break\n",
    "            \n",
    "    print ('    Top 5 in our predictions are below: ')\n",
    "    for i in range(5):\n",
    "        print ('    ' + str(X[i][1]) + ' has score ' + str(X[i][0]))\n",
    "    if mvps[year] in tops:\n",
    "        correct += 1\n",
    "        print ('predict CORRECT for year ' + str(year))\n",
    "    else:\n",
    "        print ('predict INCORRECT for year ' + str(year))\n",
    "    print ()\n",
    "print ('Total correct are ' + str(correct) + ' out of 8')"
   ]
  },
  {
   "cell_type": "code",
   "execution_count": 628,
   "metadata": {
    "collapsed": false
   },
   "outputs": [
    {
     "name": "stdout",
     "output_type": "stream",
     "text": [
      "    Top 5 in our predictions are below: \n",
      "    LeBron James has score [ 0.66782581]\n",
      "    James Harden has score [ 0.53361529]\n",
      "    Giannis Antetokounmpo has score [ 0.15558399]\n",
      "    Anthony Davis has score [ 0.13832094]\n",
      "    Stephen Curry has score [ 0.04051557]\n",
      "    LaMarcus Aldridge has score [ 0.01772965]\n",
      "    Damian Lillard has score [ 0.01772965]\n",
      "    Joakim Noah has score [ 0.01274991]\n",
      "    Matt Costello has score [ 0.01117097]\n",
      "    Kyrie Irving has score [ 0.00610175]\n",
      "    Russell Westbrook has score [ 0.00346977]\n",
      "    Paul George has score [ 0.00346977]\n",
      "    Jayson Tatum has score [ 0.00346977]\n",
      "    Andre Drummond has score [ 0.00346977]\n",
      "    Al Horford has score [ 0.00346977]\n",
      "    Vince Hunter has score [ 0.00168143]\n",
      "    Kyle Singler has score [ 0.00168143]\n",
      "    Jamil Wilson has score [ 0.00168143]\n",
      "    Jack Cooley has score [ 0.00168143]\n",
      "    Zhou Qi has score [ 0.00010248]\n",
      "    Zaza Pachulia has score [ 0.00010248]\n",
      "    Zach Randolph has score [ 0.00010248]\n",
      "    Zach Collins has score [ 0.00010248]\n",
      "    Yogi Ferrell has score [ 0.00010248]\n",
      "    Wilson Chandler has score [ 0.00010248]\n",
      "    Willy Hernangomez has score [ 0.00010248]\n",
      "    Willie Reed has score [ 0.00010248]\n",
      "    Willie Cauley-Stein has score [ 0.00010248]\n",
      "    Will Barton has score [ 0.00010248]\n",
      "    Wesley Matthews has score [ 0.00010248]\n"
     ]
    }
   ],
   "source": [
    "#Predict 2018 MVP\n",
    "#Construct testing data for top1 prediction\n",
    "X_testing_2018 = []\n",
    "for row in data2018.itertuples():\n",
    "    tmp = [row.PER,row[11],row[12],row.FTr,row[14],row[15],row[16],row[17],row[18],row[19],row[20],row[21],row.OWS,row.DWS,row.WS,row[26],row.OBPM,row.DBPM,row.BPM,row.VORP]\n",
    "    #tmp = [d.Player,d.PER,d.TSr,d.ThreePAr,d.FTRate,d.ORBr,d.DRBr,d.TRBr,d.ASTr,d.STLr,d.BLKr,d.TOVr,d.USGr,d.OWS,d.DWS,d.WS,d.WSper48,d.OBPM,d.DBPM,d.BPM,d.VORP,d.FG,d.FGA,d.FGr,d.ThreeP,d.ThreePA,d.ThreePr,d.TwoP,d.TwoPA,d.TwoPr,d.eFGr,d.FT,d.FTA,d.FTr,d.ORB,d.DRB,d.TRB,d.AST,d.STL,d.BLK,d.TOV,d.PF,d.PTS]\n",
    "    X_testing_2018.append(tmp)\n",
    "    \n",
    "#X is all players' data of that year. Make prediction on each then sort in descending order\n",
    "std_scale = preprocessing.StandardScaler().fit(X_testing_2018)\n",
    "X_testing_2018_std = std_scale.transform(X_testing_2018)\n",
    "\n",
    "i = 0\n",
    "X_testing_2018_stdd = []\n",
    "for row in data2018.itertuples():\n",
    "    tp = [row.Player]\n",
    "    for item in X_testing_2018_std[i]:\n",
    "        tp.append(item)\n",
    "    X_testing_2018_stdd.append(tp)\n",
    "    i += 1\n",
    "    \n",
    "for idx in range(len(X_testing_2018_stdd)):\n",
    "    pred = clf_RFR.predict(X_testing_2018_stdd[idx][1:])\n",
    "    X_testing_2018_stdd[idx] = [pred] + X_testing_2018_stdd[idx] \n",
    "X_testing_2018_stdd.sort(reverse = True)\n",
    "    \n",
    "    #in case of a tie, get all the top ranking players\n",
    "tops = [X_testing_2018_stdd[0][1]]\n",
    "for idx in range(1,len(X_testing_2018_stdd)):\n",
    "    if X_testing_2018_stdd[idx][0] == X_testing_2018_stdd[0][0]:\n",
    "        tops.append(X_testing_2018_stdd[idx][1])\n",
    "    else:\n",
    "        break\n",
    "            \n",
    "print ('    Top 5 in our predictions are below: ')\n",
    "for i in range(30):\n",
    "    print ('    ' + str(X_testing_2018_stdd[i][1]) + ' has score ' + str(X_testing_2018_stdd[i][0]))\n"
   ]
  },
  {
   "cell_type": "code",
   "execution_count": 618,
   "metadata": {
    "collapsed": false
   },
   "outputs": [
    {
     "data": {
      "text/plain": [
       "array([  7.49943117e-02,   0.00000000e+00,   0.00000000e+00,\n",
       "         3.98633521e-02,   1.73348815e-02,   1.25643629e-02,\n",
       "         5.61053922e-02,   2.09824211e-02,   9.59803587e-03,\n",
       "         1.33859152e-02,   4.59987631e-02,   2.13614855e-04,\n",
       "         7.37386062e-02,   6.31875883e-02,   4.29524355e-01,\n",
       "         3.12267920e-02,   0.00000000e+00,   3.15558016e-02,\n",
       "         3.69840119e-02,   4.27417949e-02])"
      ]
     },
     "execution_count": 618,
     "metadata": {},
     "output_type": "execute_result"
    }
   ],
   "source": [
    "clf_RFR.feature_importances_"
   ]
  },
  {
   "cell_type": "code",
   "execution_count": 594,
   "metadata": {
    "collapsed": false
   },
   "outputs": [
    {
     "name": "stdout",
     "output_type": "stream",
     "text": [
      "[array([ 1.68142562]), 'Nikola Jokic', 24.699999999999999, 0.245, 9.6999999999999993, 0.245, 20.0, 24.899999999999999, 2.2999999999999998, 1.8, 14.699999999999999, 21.699999999999999, 2.0, 0.90000000000000002, 2.0, 0.90000000000000002, 2.8999999999999999, 7.2000000000000002, 4.5999999999999996, 2.6000000000000001, 7.2000000000000002, 1.3999999999999999]\n"
     ]
    }
   ],
   "source": [
    "print (X_testing_2018[2])"
   ]
  },
  {
   "cell_type": "code",
   "execution_count": 559,
   "metadata": {
    "collapsed": false
   },
   "outputs": [
    {
     "name": "stdout",
     "output_type": "stream",
     "text": [
      "2010 mvp was LeBron James\n",
      "    Top 5 in our predictions are below: \n",
      "    LeBron James has score [ 0.55332952]\n",
      "    Kevin Durant has score [ 0.44584881]\n",
      "    Dwyane Wade has score [ 0.12847746]\n",
      "    Dwight Howard has score [ 0.12847746]\n",
      "    Dirk Nowitzki has score [ 0.11177297]\n",
      "predict CORRECT for year 2010\n",
      "\n",
      "2011 mvp was Derrick Rose\n",
      "    Top 5 in our predictions are below: \n",
      "    LeBron James has score [ 0.44584881]\n",
      "    Pau Gasol has score [ 0.24501943]\n",
      "    Dwight Howard has score [ 0.23008413]\n",
      "    Chris Paul has score [ 0.13587438]\n",
      "    Dwyane Wade has score [ 0.12847746]\n",
      "predict INCORRECT for year 2011\n",
      "\n",
      "2012 mvp was LeBron James\n",
      "    Top 5 in our predictions are below: \n",
      "    LeBron James has score [ 0.30817173]\n",
      "    Chris Paul has score [ 0.17181606]\n",
      "    Kevin Durant has score [ 0.11177297]\n",
      "    Tim Duncan has score [ 0.00619477]\n",
      "    Russell Westbrook has score [ 0.00619477]\n",
      "predict CORRECT for year 2012\n",
      "\n",
      "2013 mvp was LeBron James\n",
      "    Top 5 in our predictions are below: \n",
      "    LeBron James has score [ 0.55332952]\n",
      "    Kevin Durant has score [ 0.55332952]\n",
      "    Chris Paul has score [ 0.17921299]\n",
      "    James Harden has score [ 0.12847746]\n",
      "    Russell Westbrook has score [ 0.0949199]\n",
      "predict CORRECT for year 2013\n",
      "\n",
      "2014 mvp was Kevin Durant\n",
      "    Top 5 in our predictions are below: \n",
      "    Kevin Durant has score [ 0.5953247]\n",
      "    LeBron James has score [ 0.51629985]\n",
      "    Kevin Love has score [ 0.19970203]\n",
      "    Stephen Curry has score [ 0.12847746]\n",
      "    James Harden has score [ 0.12847746]\n",
      "predict CORRECT for year 2014\n",
      "\n",
      "2015 mvp was Stephen Curry\n",
      "    Top 5 in our predictions are below: \n",
      "    Stephen Curry has score [ 0.55664383]\n",
      "    Chris Paul has score [ 0.55664383]\n",
      "    James Harden has score [ 0.50418147]\n",
      "    Anthony Davis has score [ 0.21116301]\n",
      "    DeAndre Jordan has score [ 0.12847746]\n",
      "predict CORRECT for year 2015\n",
      "\n",
      "2016 mvp was Stephen Curry\n",
      "    Top 5 in our predictions are below: \n",
      "    Stephen Curry has score [ 0.5936735]\n",
      "    Kevin Durant has score [ 0.34851571]\n",
      "    Kawhi Leonard has score [ 0.17181606]\n",
      "    Russell Westbrook has score [ 0.17086887]\n",
      "    LeBron James has score [ 0.12847746]\n",
      "predict CORRECT for year 2016\n",
      "\n",
      "2017 mvp was Russell Westbrook\n",
      "    Top 5 in our predictions are below: \n",
      "    James Harden has score [ 0.34463013]\n",
      "    Kawhi Leonard has score [ 0.17181606]\n",
      "    Rudy Gobert has score [ 0.15466239]\n",
      "    Jimmy Butler has score [ 0.13587438]\n",
      "    Stephen Curry has score [ 0.12847746]\n",
      "predict INCORRECT for year 2017\n",
      "\n",
      "Total correct are 6 out of 8\n"
     ]
    }
   ],
   "source": [
    "#Random Forest regressor, all features\n",
    "#Construct testing data for top1 prediction\n",
    "X_testing_top1 = {}\n",
    "for i in range(2010,2018):\n",
    "    X = []\n",
    "    for d in data_refined:\n",
    "        year = d.Year\n",
    "        if year == i:\n",
    "            tmp = [d.Name,d.Games,d.MP,d.PER,d.TSr,d.ThreePAr,d.FTRate,d.ORBr,d.DRBr,d.TRBr,d.ASTr,d.STLr,d.BLKr,d.TOVr,d.USGr,d.OWS,d.DWS,d.WS,d.WSper48,d.OBPM,d.DBPM,d.BPM,d.VORP,d.FG,d.FGA,d.FGr,d.ThreeP,d.ThreePA,d.ThreePr,d.TwoP,d.TwoPA,d.TwoPr,d.eFGr,d.FT,d.FTA,d.FTr,d.ORB,d.DRB,d.TRB,d.AST,d.STL,d.BLK,d.TOV,d.PF,d.PTS]\n",
    "            X.append(tmp)\n",
    "            y_training_vote.append(votingDict[year][d.Name])\n",
    "    X_testing_top1[i] = X\n",
    "    \n",
    "correct = 0\n",
    "for year in range(2010,2018):\n",
    "    #X is all players' data of that year. Make prediction on each then sort in descending order\n",
    "    X = X_testing_top1[year]\n",
    "    print (str(year) + ' mvp was ' + str(mvps[year]))\n",
    "    for idx in range(len(X)):\n",
    "        pred = clf_RFR_vote.predict(X[idx][1:])\n",
    "        X[idx] = [pred] + X[idx] \n",
    "    X.sort(reverse = True)\n",
    "    \n",
    "    #in case of a tie, get all the top ranking players\n",
    "    tops = [X[0][1]]\n",
    "    for idx in range(1,len(X)):\n",
    "        if X[idx][0] == X[0][0]:\n",
    "            tops.append(X[idx][1])\n",
    "        else:\n",
    "            break\n",
    "            \n",
    "    print ('    Top 5 in our predictions are below: ')\n",
    "    for i in range(5):\n",
    "        print ('    ' + str(X[i][1]) + ' has score ' + str(X[i][0]))\n",
    "    if mvps[year] in tops:\n",
    "        correct += 1\n",
    "        print ('predict CORRECT for year ' + str(year))\n",
    "    else:\n",
    "        print ('predict INCORRECT for year ' + str(year))\n",
    "    print ()\n",
    "print ('Total correct are ' + str(correct) + ' out of 8')"
   ]
  },
  {
   "cell_type": "code",
   "execution_count": 532,
   "metadata": {
    "collapsed": false
   },
   "outputs": [
    {
     "name": "stdout",
     "output_type": "stream",
     "text": [
      "[0.66500000000000004, 0.0, 0.0, 0.0090000000000000011, 0.0, 0.0, 0.0, 0.0, 0.0, 0.0, 0.0, 0.0, 0.0, 0.0, 0.0, 0.0, 0.0, 0.068000000000000005, 0.0, 0.0]\n"
     ]
    }
   ],
   "source": [
    "print (y_training_vote[:20])"
   ]
  },
  {
   "cell_type": "code",
   "execution_count": 517,
   "metadata": {
    "collapsed": false
   },
   "outputs": [],
   "source": [
    "X_training_top1_std = std_scale.transform(X_training_top1)"
   ]
  },
  {
   "cell_type": "code",
   "execution_count": 552,
   "metadata": {
    "collapsed": false
   },
   "outputs": [
    {
     "data": {
      "text/plain": [
       "SVR(C=1.0, cache_size=200, coef0=0.0, degree=3, epsilon=0.1, gamma='auto',\n",
       "  kernel='rbf', max_iter=-1, shrinking=True, tol=0.001, verbose=False)"
      ]
     },
     "execution_count": 552,
     "metadata": {},
     "output_type": "execute_result"
    }
   ],
   "source": [
    "clf_svr = SVR()\n",
    "clf_svr.fit(X_training_top1, y_training_vote)"
   ]
  },
  {
   "cell_type": "code",
   "execution_count": 553,
   "metadata": {
    "collapsed": false
   },
   "outputs": [
    {
     "name": "stdout",
     "output_type": "stream",
     "text": [
      "2010 mvp was LeBron James\n",
      "    Top 5 in our predictions are below: \n",
      "    Ryan Bowen has score [ 0.1035583]\n",
      "    Trey Gilder has score [ 0.10355812]\n",
      "    LeBron James has score [ 0.10355711]\n",
      "    Dwight Howard has score [ 0.10355369]\n",
      "    Kevin Durant has score [ 0.10354947]\n",
      "predict INCORRECT for year 2010\n",
      "\n",
      "2011 mvp was Derrick Rose\n",
      "    Top 5 in our predictions are below: \n",
      "    Marcus Banks has score [ 0.10355839]\n",
      "    Dwight Howard has score [ 0.10355424]\n",
      "    Bobby Simmons has score [ 0.10355002]\n",
      "    Hassan Whiteside has score [ 0.10354991]\n",
      "    LeBron James has score [ 0.1035498]\n",
      "predict INCORRECT for year 2011\n",
      "\n",
      "2012 mvp was LeBron James\n",
      "    Top 5 in our predictions are below: \n",
      "    Keith Benson has score [ 0.10354587]\n",
      "    Hamady N'Diaye has score [ 0.1035442]\n",
      "    Brian Skinner has score [ 0.10354279]\n",
      "    Dan Gadzuric has score [ 0.10354048]\n",
      "    Kyrylo Fesenko has score [ 0.10354021]\n",
      "predict INCORRECT for year 2012\n",
      "\n",
      "2013 mvp was LeBron James\n",
      "    Top 5 in our predictions are below: \n",
      "    Darko Milicic has score [ 0.10355788]\n",
      "    Julyan Stone has score [ 0.10355629]\n",
      "    LeBron James has score [ 0.10355561]\n",
      "    Solomon Jones has score [ 0.10355504]\n",
      "    Darius Johnson-Odom has score [ 0.10355475]\n",
      "predict INCORRECT for year 2013\n",
      "\n",
      "2014 mvp was Kevin Durant\n",
      "    Top 5 in our predictions are below: \n",
      "    DeAndre Liggins has score [ 0.10355847]\n",
      "    Andris Biedrins has score [ 0.10355847]\n",
      "    Dexter Pittman has score [ 0.10355843]\n",
      "    Josh Childress has score [ 0.10355814]\n",
      "    Kevin Durant has score [ 0.1035569]\n",
      "predict INCORRECT for year 2014\n",
      "\n",
      "2015 mvp was Stephen Curry\n",
      "    Top 5 in our predictions are below: \n",
      "    Jerrelle Benimon has score [ 0.10355847]\n",
      "    Sim Bhullar has score [ 0.10355847]\n",
      "    Tyrus Thomas has score [ 0.10355814]\n",
      "    Eric Moreland has score [ 0.10355797]\n",
      "    Stephen Curry has score [ 0.10355669]\n",
      "predict INCORRECT for year 2015\n",
      "\n",
      "2016 mvp was Stephen Curry\n",
      "    Top 5 in our predictions are below: \n",
      "    Stephen Curry has score [ 0.10355839]\n",
      "    Rakeem Christmas has score [ 0.10355746]\n",
      "    James Harden has score [ 0.10355615]\n",
      "    Russell Westbrook has score [ 0.10355333]\n",
      "    Sam Dekker has score [ 0.10355324]\n",
      "predict CORRECT for year 2016\n",
      "\n",
      "2017 mvp was Russell Westbrook\n",
      "    Top 5 in our predictions are below: \n",
      "    Danuel House has score [ 0.10355841]\n",
      "    Jarnell Stokes has score [ 0.10355836]\n",
      "    Russell Westbrook has score [ 0.10355835]\n",
      "    James Harden has score [ 0.10355825]\n",
      "    Stephen Curry has score [ 0.10355615]\n",
      "predict INCORRECT for year 2017\n",
      "\n",
      "Total correct are 1 out of 8\n"
     ]
    }
   ],
   "source": [
    "#SVR\n",
    "#Construct testing data for top1 prediction\n",
    "X_testing_top1 = {}\n",
    "for i in range(2010,2018):\n",
    "    X = []\n",
    "    for d in data_refined:\n",
    "        year = d.Year\n",
    "        if year == i:\n",
    "            tmp = [d.Name,d.Games,d.MP,d.PER,d.TSr,d.ThreePAr,d.FTRate,d.ORBr,d.DRBr,d.TRBr,d.ASTr,d.STLr,d.BLKr,d.TOVr,d.USGr,d.OWS,d.DWS,d.WS,d.WSper48,d.OBPM,d.DBPM,d.BPM,d.VORP,d.FG,d.FGA,d.FGr,d.ThreeP,d.ThreePA,d.ThreePr,d.TwoP,d.TwoPA,d.TwoPr,d.eFGr,d.FT,d.FTA,d.FTr,d.ORB,d.DRB,d.TRB,d.AST,d.STL,d.BLK,d.TOV,d.PF,d.PTS]\n",
    "            X.append(tmp)\n",
    "    X_testing_top1[i] = X\n",
    "\n",
    "correct = 0\n",
    "for year in range(2010,2018):\n",
    "    #X is all players' data of that year. Make prediction on each then sort in descending order\n",
    "    X = X_testing_top1[year]\n",
    "    print (str(year) + ' mvp was ' + str(mvps[year]))\n",
    "    for idx in range(len(X)):\n",
    "        pred = clf_svr.predict(std_scale.transform(X[idx][1:]))\n",
    "        X[idx] = [pred] + X[idx] \n",
    "    X.sort(reverse = True)\n",
    "    \n",
    "    #in case of a tie, get all the top ranking players\n",
    "    tops = [X[0][1]]\n",
    "    for idx in range(1,len(X)):\n",
    "        if X[idx][0] == X[0][0]:\n",
    "            tops.append(X[idx][1])\n",
    "        else:\n",
    "            break\n",
    "            \n",
    "    print ('    Top 5 in our predictions are below: ')\n",
    "    for i in range(5):\n",
    "        print ('    ' + str(X[i][1]) + ' has score ' + str(X[i][0]))\n",
    "    if mvps[year] in tops:\n",
    "        correct += 1\n",
    "        print ('predict CORRECT for year ' + str(year))\n",
    "    else:\n",
    "        print ('predict INCORRECT for year ' + str(year))\n",
    "    print ()\n",
    "print ('Total correct are ' + str(correct) + ' out of 8')"
   ]
  },
  {
   "cell_type": "code",
   "execution_count": 602,
   "metadata": {
    "collapsed": false
   },
   "outputs": [
    {
     "data": {
      "text/plain": [
       "LogisticRegression(C=1.0, class_weight=None, dual=False, fit_intercept=True,\n",
       "          intercept_scaling=1, max_iter=100, multi_class='ovr', n_jobs=1,\n",
       "          penalty='l2', random_state=None, solver='liblinear', tol=0.0001,\n",
       "          verbose=0, warm_start=False)"
      ]
     },
     "execution_count": 602,
     "metadata": {},
     "output_type": "execute_result"
    }
   ],
   "source": [
    "clf_LR = LogisticRegression()\n",
    "clf_LR.fit(X_training_top1, y_training_top1)"
   ]
  },
  {
   "cell_type": "code",
   "execution_count": 601,
   "metadata": {
    "collapsed": false
   },
   "outputs": [
    {
     "data": {
      "text/plain": [
       "30000"
      ]
     },
     "execution_count": 601,
     "metadata": {},
     "output_type": "execute_result"
    }
   ],
   "source": [
    "sum(y_training_top1)"
   ]
  },
  {
   "cell_type": "code",
   "execution_count": 464,
   "metadata": {
    "collapsed": false
   },
   "outputs": [
    {
     "name": "stdout",
     "output_type": "stream",
     "text": [
      "2010 mvp was LeBron James\n",
      "    Top 5 in our predictions are below: \n",
      "    LeBron James has score [1]\n",
      "    Kevin Durant has score [1]\n",
      "    Zydrunas Ilgauskas has score [0]\n",
      "    Zaza Pachulia has score [0]\n",
      "    Zach Randolph has score [0]\n",
      "    Yi Jianlian has score [0]\n",
      "    Yakhouba Diawara has score [0]\n",
      "    Wilson Chandler has score [0]\n",
      "    Willie Green has score [0]\n",
      "    Will Conroy has score [0]\n",
      "predict CORRECT for year 2010\n",
      "\n",
      "2011 mvp was Derrick Rose\n",
      "    Top 5 in our predictions are below: \n",
      "    LeBron James has score [1]\n",
      "    Derrick Rose has score [1]\n",
      "    Zydrunas Ilgauskas has score [0]\n",
      "    Zaza Pachulia has score [0]\n",
      "    Zach Randolph has score [0]\n",
      "    Zabian Dowdell has score [0]\n",
      "    Yi Jianlian has score [0]\n",
      "    Yao Ming has score [0]\n",
      "    Xavier Henry has score [0]\n",
      "    Wilson Chandler has score [0]\n",
      "predict CORRECT for year 2011\n",
      "\n",
      "2012 mvp was LeBron James\n",
      "    Top 5 in our predictions are below: \n",
      "    LeBron James has score [1]\n",
      "    Kevin Durant has score [1]\n",
      "    Zaza Pachulia has score [0]\n",
      "    Zach Randolph has score [0]\n",
      "    Yi Jianlian has score [0]\n",
      "    Xavier Silas has score [0]\n",
      "    Xavier Henry has score [0]\n",
      "    Wilson Chandler has score [0]\n",
      "    Willie Green has score [0]\n",
      "    Will Bynum has score [0]\n",
      "predict CORRECT for year 2012\n",
      "\n",
      "2013 mvp was LeBron James\n",
      "    Top 5 in our predictions are below: \n",
      "    LeBron James has score [1]\n",
      "    Kevin Durant has score [1]\n",
      "    Zaza Pachulia has score [0]\n",
      "    Zach Randolph has score [0]\n",
      "    Xavier Henry has score [0]\n",
      "    Wilson Chandler has score [0]\n",
      "    Willie Green has score [0]\n",
      "    Will Conroy has score [0]\n",
      "    Will Bynum has score [0]\n",
      "    Will Barton has score [0]\n",
      "predict CORRECT for year 2013\n",
      "\n",
      "2014 mvp was Kevin Durant\n",
      "    Top 5 in our predictions are below: \n",
      "    LeBron James has score [1]\n",
      "    Kevin Durant has score [1]\n",
      "    Zaza Pachulia has score [0]\n",
      "    Zach Randolph has score [0]\n",
      "    Xavier Henry has score [0]\n",
      "    Wilson Chandler has score [0]\n",
      "    Willie Green has score [0]\n",
      "    Will Bynum has score [0]\n",
      "    Will Barton has score [0]\n",
      "    Wesley Matthews has score [0]\n",
      "predict CORRECT for year 2014\n",
      "\n",
      "2015 mvp was Stephen Curry\n",
      "    Top 5 in our predictions are below: \n",
      "    Stephen Curry has score [1]\n",
      "    James Harden has score [1]\n",
      "    Zoran Dragic has score [0]\n",
      "    Zaza Pachulia has score [0]\n",
      "    Zach Randolph has score [0]\n",
      "    Zach LaVine has score [0]\n",
      "    Xavier Henry has score [0]\n",
      "    Wilson Chandler has score [0]\n",
      "    Willie Green has score [0]\n",
      "    Will Cherry has score [0]\n",
      "predict CORRECT for year 2015\n",
      "\n",
      "2016 mvp was Stephen Curry\n",
      "    Top 5 in our predictions are below: \n",
      "    Stephen Curry has score [1]\n",
      "    Russell Westbrook has score [1]\n",
      "    Kevin Durant has score [1]\n",
      "    Zaza Pachulia has score [0]\n",
      "    Zach Randolph has score [0]\n",
      "    Zach LaVine has score [0]\n",
      "    Xavier Munford has score [0]\n",
      "    Willie Reed has score [0]\n",
      "    Willie Cauley-Stein has score [0]\n",
      "    Will Barton has score [0]\n",
      "predict CORRECT for year 2016\n",
      "\n",
      "2017 mvp was Russell Westbrook\n",
      "    Top 5 in our predictions are below: \n",
      "    Russell Westbrook has score [1]\n",
      "    James Harden has score [1]\n",
      "    Zaza Pachulia has score [0]\n",
      "    Zach Randolph has score [0]\n",
      "    Zach LaVine has score [0]\n",
      "    Yogi Ferrell has score [0]\n",
      "    Wilson Chandler has score [0]\n",
      "    Willy Hernangomez has score [0]\n",
      "    Willie Reed has score [0]\n",
      "    Willie Cauley-Stein has score [0]\n",
      "predict CORRECT for year 2017\n",
      "\n",
      "Total correct are 8 out of 8\n"
     ]
    }
   ],
   "source": [
    "#LR\n",
    "#Construct testing data for top1 prediction\n",
    "X_testing_top1 = {}\n",
    "for i in range(2010,2018):\n",
    "    X = []\n",
    "    for d in data_refined:\n",
    "        year = d.Year\n",
    "        if year == i:\n",
    "            tmp = [d.Name,d.Games,d.MP,d.PER,d.TSr,d.ThreePAr,d.FTRate,d.ORBr,d.DRBr,d.TRBr,d.ASTr,d.STLr,d.BLKr,d.TOVr,d.USGr,d.OWS,d.DWS,d.WS,d.WSper48,d.OBPM,d.DBPM,d.BPM,d.VORP,d.FG,d.FGA,d.FGr,d.ThreeP,d.ThreePA,d.ThreePr,d.TwoP,d.TwoPA,d.TwoPr,d.eFGr,d.FT,d.FTA,d.FTr,d.ORB,d.DRB,d.TRB,d.AST,d.STL,d.BLK,d.TOV,d.PF,d.PTS]\n",
    "            X.append(tmp)\n",
    "    X_testing_top1[i] = X\n",
    "\n",
    "correct = 0\n",
    "for year in range(2010,2018):\n",
    "    #X is all players' data of that year. Make prediction on each then sort in descending order\n",
    "    X = X_testing_top1[year]\n",
    "    print (str(year) + ' mvp was ' + str(mvps[year]))\n",
    "    for idx in range(len(X)):\n",
    "        pred = clf_LR.predict(X[idx][1:])\n",
    "        X[idx] = [pred] + X[idx] \n",
    "    X.sort(reverse = True)\n",
    "    \n",
    "    #in case of a tie, get all the top ranking players\n",
    "    tops = [X[0][1]]\n",
    "    for idx in range(1,len(X)):\n",
    "        if X[idx][0] == X[0][0]:\n",
    "            tops.append(X[idx][1])\n",
    "        else:\n",
    "            break\n",
    "            \n",
    "    print ('    Top 5 in our predictions are below: ')\n",
    "    for i in range(10):\n",
    "        print ('    ' + str(X[i][1]) + ' has score ' + str(X[i][0]))\n",
    "    if mvps[year] in tops:\n",
    "        correct += 1\n",
    "        print ('predict CORRECT for year ' + str(year))\n",
    "    else:\n",
    "        print ('predict INCORRECT for year ' + str(year))\n",
    "    print ()\n",
    "print ('Total correct are ' + str(correct) + ' out of 8')"
   ]
  },
  {
   "cell_type": "code",
   "execution_count": 607,
   "metadata": {
    "collapsed": false
   },
   "outputs": [
    {
     "name": "stdout",
     "output_type": "stream",
     "text": [
      "    Top 5 in our predictions are below: \n",
      "    Zhou Qi has score [0]\n",
      "    Zaza Pachulia has score [0]\n",
      "    Zach Randolph has score [0]\n",
      "    Zach Collins has score [0]\n",
      "    Yogi Ferrell has score [0]\n"
     ]
    }
   ],
   "source": [
    "#LR, 2018 MVP prediction\n",
    "#Construct testing data for top1 prediction\n",
    "X_testing_2018 = []\n",
    "for row in data2018.itertuples():\n",
    "    tmp = [row.Player,row.PER,row[11],row[12],row.FTr,row[14],row[15],row[16],row[17],row[18],row[19],row[20],row[21],row.OWS,row.DWS,row.WS,row[26],row.OBPM,row.DBPM,row.BPM,row.VORP]\n",
    "    #tmp = [d.Player,d.PER,d.TSr,d.ThreePAr,d.FTRate,d.ORBr,d.DRBr,d.TRBr,d.ASTr,d.STLr,d.BLKr,d.TOVr,d.USGr,d.OWS,d.DWS,d.WS,d.WSper48,d.OBPM,d.DBPM,d.BPM,d.VORP,d.FG,d.FGA,d.FGr,d.ThreeP,d.ThreePA,d.ThreePr,d.TwoP,d.TwoPA,d.TwoPr,d.eFGr,d.FT,d.FTA,d.FTr,d.ORB,d.DRB,d.TRB,d.AST,d.STL,d.BLK,d.TOV,d.PF,d.PTS]\n",
    "    X_testing_2018.append(tmp)\n",
    "    \n",
    "#X is all players' data of that year. Make prediction on each then sort in descending order\n",
    "\n",
    "\n",
    "for idx in range(len(X_testing_2018)):\n",
    "    pred = clf_LR.predict(X_testing_2018[idx][1:])\n",
    "    X_testing_2018[idx] = [pred] + X_testing_2018[idx] \n",
    "X_testing_2018.sort(reverse = True)\n",
    "    \n",
    "    #in case of a tie, get all the top ranking players\n",
    "tops = [X_testing_2018[0][1]]\n",
    "for idx in range(1,len(X_testing_2018)):\n",
    "    if X_testing_2018[idx][0] == X_testing_2018[0][0]:\n",
    "        tops.append(X_testing_2018[idx][1])\n",
    "    else:\n",
    "        break\n",
    "            \n",
    "print ('    Top 5 in our predictions are below: ')\n",
    "for i in range(5):\n",
    "    print ('    ' + str(X_testing_2018[i][1]) + ' has score ' + str(X_testing_2018[i][0]))\n"
   ]
  },
  {
   "cell_type": "code",
   "execution_count": 608,
   "metadata": {
    "collapsed": false
   },
   "outputs": [
    {
     "data": {
      "text/plain": [
       "array([[-0.12122852, -1.24469802, -1.15701047, -0.73808842, -0.69939502,\n",
       "        -0.70253132,  1.21371234,  0.02361416, -1.54105108, -0.28496401,\n",
       "        -0.14495539, -0.06552083,  0.01463959,  0.50993109,  0.60230467,\n",
       "        -0.01790966,  0.13569576,  0.22281577,  0.38421771, -0.27187013]])"
      ]
     },
     "execution_count": 608,
     "metadata": {},
     "output_type": "execute_result"
    }
   ],
   "source": [
    "clf_LR.coef_"
   ]
  },
  {
   "cell_type": "code",
   "execution_count": null,
   "metadata": {
    "collapsed": true
   },
   "outputs": [],
   "source": []
  }
 ],
 "metadata": {
  "anaconda-cloud": {},
  "kernelspec": {
   "display_name": "Python [conda root]",
   "language": "python",
   "name": "conda-root-py"
  },
  "language_info": {
   "codemirror_mode": {
    "name": "ipython",
    "version": 3
   },
   "file_extension": ".py",
   "mimetype": "text/x-python",
   "name": "python",
   "nbconvert_exporter": "python",
   "pygments_lexer": "ipython3",
   "version": "3.5.2"
  }
 },
 "nbformat": 4,
 "nbformat_minor": 1
}
